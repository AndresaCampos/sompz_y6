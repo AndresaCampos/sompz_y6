{
 "cells": [
  {
   "cell_type": "code",
   "execution_count": 1,
   "id": "dea7f40b-99bf-4324-8188-3485fc7178bd",
   "metadata": {},
   "outputs": [],
   "source": [
    "import h5py\n",
    "import numpy as np\n",
    "import pandas as pd\n",
    "from astropy.io import fits\n",
    "import fitsio"
   ]
  },
  {
   "cell_type": "code",
   "execution_count": 2,
   "id": "cf582c04-ab46-44f2-b284-bac3d59a068e",
   "metadata": {},
   "outputs": [],
   "source": [
    "wide_field_file = '/global/cscratch1/sd/acampos/sompz_data/Y3_mastercat_03_31_20.h5'"
   ]
  },
  {
   "cell_type": "code",
   "execution_count": 3,
   "id": "308dc723-1959-409a-b695-58101b745191",
   "metadata": {},
   "outputs": [],
   "source": [
    "with h5py.File(wide_field_file,'r') as file:\n",
    "    coadd = np.array(file['catalog/metacal/unsheared/coadd_object_id'][...])"
   ]
  },
  {
   "cell_type": "code",
   "execution_count": 7,
   "id": "cbfe75c5-7481-458f-8a3c-7c174763fe55",
   "metadata": {},
   "outputs": [],
   "source": [
    "# f = h5py.File('sompz_test.hdf5','r')\n",
    "\n",
    "# fluxtypes = ['unsheared', 'sheared_1m', 'sheared_1p', 'sheared_2m', 'sheared_2p']\n",
    "# fluxtype = fluxtypes[0]\n",
    "\n",
    "# f[f'catalog/sompz/{fluxtype}'].keys()\n",
    "\n",
    "# df_dict_cell = {'cell_wide': np.array(f[f'catalog/sompz/{fluxtype}/cell_wide'])}\n",
    "# df_dict = {}\n",
    "# df_dict.update(df_dict_cell)\n",
    "# sompzh5_data = pd.DataFrame(df_dict)\n",
    "\n",
    "# sompzh5_data['bhat'] = np.array(f[f'catalog/sompz/{fluxtype}/bhat'])\n",
    "# sompzh5_data['coadd_object_id'] = np.array(f['catalog/sompz/unsheared/coadd_object_id'])\n"
   ]
  },
  {
   "cell_type": "code",
   "execution_count": 8,
   "id": "9d8d8233-931d-4f95-806d-8b20786c397e",
   "metadata": {},
   "outputs": [],
   "source": [
    "f = h5py.File('sompz_test.hdf5','r')\n",
    "s = h5py.File('sompz_SOMF_all_601.hdf5','w', track_order=True)\n",
    "\n",
    "fluxtypes = ['unsheared', 'sheared_1m', 'sheared_1p', 'sheared_2m', 'sheared_2p']\n",
    "\n",
    "for fluxtype in fluxtypes:\n",
    "    \n",
    "    \n",
    "    f[f'catalog/sompz/{fluxtype}'].keys()\n",
    "    \n",
    "    df_dict_cell = {'cell_wide': np.array(f[f'catalog/sompz/{fluxtype}/cell_wide'])}\n",
    "    df_dict = {}\n",
    "    df_dict.update(df_dict_cell)\n",
    "    sompzh5_data = pd.DataFrame(df_dict)\n",
    "\n",
    "    sompzh5_data['bhat'] = np.array(f[f'catalog/sompz/{fluxtype}/bhat'])\n",
    "    sompzh5_data['coadd_object_id'] = np.array(f['catalog/sompz/unsheared/coadd_object_id'])\n",
    "    \n",
    "    \n",
    "    sompzh5_data = sompzh5_data.set_index('coadd_object_id')\n",
    "    \n",
    "    all_data = pd.DataFrame({'coadd_object_id':coadd})\n",
    "    all_data['coadd'] = coadd\n",
    "    all_data = all_data.set_index('coadd_object_id')\n",
    "    all_data['cell_wide'] = sompzh5_data['cell_wide']\n",
    "    all_data['bhat'] = sompzh5_data['bhat']\n",
    "    all_data[np.isnan(all_data)] = -1\n",
    "    \n",
    "    if fluxtype == 'unsheared':\n",
    "        s.create_dataset('catalog/sompz/unsheared/coadd_object_id', data = coadd)\n",
    "    s.create_dataset(f'catalog/sompz/{fluxtype}/cell_wide', data = all_data['cell_wide'].astype(int).values)\n",
    "    s.create_dataset(f'catalog/sompz/{fluxtype}/bhat', data = all_data['bhat'].astype(int).values)\n",
    "    \n",
    "f.close()    \n",
    "s.close()    "
   ]
  },
  {
   "cell_type": "code",
   "execution_count": null,
   "id": "3354e682-1004-4b45-87e7-74281edd0c10",
   "metadata": {},
   "outputs": [],
   "source": []
  },
  {
   "cell_type": "code",
   "execution_count": 9,
   "id": "b708c53e-bf66-4980-9973-b3b37992f354",
   "metadata": {},
   "outputs": [
    {
     "name": "stdout",
     "output_type": "stream",
     "text": [
      "Filename: /global/cscratch1/sd/acampos/2pt_pipeline/y3_final_unblind_test/2pt_fits/2pt_NG.fits\n",
      "No.    Name      Ver    Type      Cards   Dimensions   Format\n",
      "  0  PRIMARY       1 PrimaryHDU       4   ()      \n",
      "  1  COVMAT        1 ImageHDU        17   (900, 900)   float64   \n",
      "  2  xip           1 BinTableHDU     37   200R x 8C   [K, K, K, D, D, D, D, D]   \n",
      "  3  xim           1 BinTableHDU     37   200R x 8C   [K, K, K, D, D, D, D, D]   \n",
      "  4  gammat        1 BinTableHDU     37   400R x 8C   [K, K, K, D, D, D, D, D]   \n",
      "  5  wtheta        1 BinTableHDU     37   100R x 8C   [K, K, K, D, D, D, D, D]   \n",
      "  6  nz_source     1 BinTableHDU     32   601R x 7C   [D, D, D, D, D, D, D]   \n",
      "  7  nz_lens       1 BinTableHDU     31   601R x 8C   [D, D, D, D, D, D, D, D]   \n"
     ]
    }
   ],
   "source": [
    "with fits.open('/global/cscratch1/sd/acampos/2pt_pipeline/y3_final_unblind_test/2pt_fits/2pt_NG.fits') as f:\n",
    "    f.info()\n",
    "    data = f['nz_source'].data"
   ]
  },
  {
   "cell_type": "code",
   "execution_count": 10,
   "id": "4a7b0927-24fc-4350-ad3b-d1ddf6a19d1e",
   "metadata": {},
   "outputs": [],
   "source": [
    "# data['Z_HIGH']"
   ]
  },
  {
   "cell_type": "code",
   "execution_count": 11,
   "id": "bf56f72e-9487-4d4c-aa82-0d5886efc9f1",
   "metadata": {},
   "outputs": [],
   "source": [
    "s = h5py.File('sompz_SOMF_all_601.hdf5','r+', track_order=True)\n",
    "\n",
    "s.create_dataset('catalog/sompz/pzdata/zhigh', data = data['Z_HIGH'])\n",
    "s.create_dataset('catalog/sompz/pzdata/zlow', data = data['Z_LOW'])\n",
    "\n",
    "s.close()"
   ]
  },
  {
   "cell_type": "code",
   "execution_count": 12,
   "id": "b2be10a5-8c00-4d0c-a27e-92357008c3aa",
   "metadata": {},
   "outputs": [],
   "source": [
    "s = h5py.File('sompz_test.hdf5','r', track_order=True)"
   ]
  },
  {
   "cell_type": "code",
   "execution_count": 13,
   "id": "7b8e09f7-d0f6-492d-b84e-b61553ebeda3",
   "metadata": {},
   "outputs": [
    {
     "data": {
      "text/plain": [
       "array([[0.00000000e+00, 0.00000000e+00, 1.02109115e-02, ...,\n",
       "        0.00000000e+00, 0.00000000e+00, 0.00000000e+00],\n",
       "       [0.00000000e+00, 0.00000000e+00, 0.00000000e+00, ...,\n",
       "        0.00000000e+00, 0.00000000e+00, 0.00000000e+00],\n",
       "       [0.00000000e+00, 0.00000000e+00, 7.85759892e-06, ...,\n",
       "        0.00000000e+00, 0.00000000e+00, 0.00000000e+00],\n",
       "       ...,\n",
       "       [0.00000000e+00, 2.61476883e+00, 6.59712267e-01, ...,\n",
       "        0.00000000e+00, 0.00000000e+00, 0.00000000e+00],\n",
       "       [0.00000000e+00, 8.70168789e+00, 1.54497318e+00, ...,\n",
       "        0.00000000e+00, 0.00000000e+00, 0.00000000e+00],\n",
       "       [0.00000000e+00, 1.27336594e+01, 2.98150887e+00, ...,\n",
       "        0.00000000e+00, 0.00000000e+00, 0.00000000e+00]])"
      ]
     },
     "execution_count": 13,
     "metadata": {},
     "output_type": "execute_result"
    }
   ],
   "source": [
    "s['catalog/sompz/pzdata/pz_chat/'][...]"
   ]
  },
  {
   "cell_type": "code",
   "execution_count": 14,
   "id": "d47d5406-358d-4075-bfe6-d77cd2006307",
   "metadata": {},
   "outputs": [],
   "source": [
    "nz=fitsio.read('Y3_y3_redshift_distributions_test_modal_even_Y3_bincond_pileup3.fits')\n",
    "pz_chat = np.load('pzchat.npy')\n",
    "pz_c = np.load('pzc.npy')"
   ]
  },
  {
   "cell_type": "code",
   "execution_count": 15,
   "id": "82add915-022d-4bf1-bc37-3b939b1984c0",
   "metadata": {},
   "outputs": [
    {
     "data": {
      "text/plain": [
       "array([[0.00000000e+00, 0.00000000e+00, 1.02109115e-02, ...,\n",
       "        0.00000000e+00, 0.00000000e+00, 0.00000000e+00],\n",
       "       [0.00000000e+00, 0.00000000e+00, 0.00000000e+00, ...,\n",
       "        0.00000000e+00, 0.00000000e+00, 0.00000000e+00],\n",
       "       [0.00000000e+00, 0.00000000e+00, 7.85759892e-06, ...,\n",
       "        0.00000000e+00, 0.00000000e+00, 0.00000000e+00],\n",
       "       ...,\n",
       "       [0.00000000e+00, 2.61476883e+00, 6.59712267e-01, ...,\n",
       "        0.00000000e+00, 0.00000000e+00, 0.00000000e+00],\n",
       "       [0.00000000e+00, 8.70168789e+00, 1.54497318e+00, ...,\n",
       "        0.00000000e+00, 0.00000000e+00, 0.00000000e+00],\n",
       "       [0.00000000e+00, 1.27336594e+01, 2.98150887e+00, ...,\n",
       "        0.00000000e+00, 0.00000000e+00, 0.00000000e+00]])"
      ]
     },
     "execution_count": 15,
     "metadata": {},
     "output_type": "execute_result"
    }
   ],
   "source": [
    "pz_chat"
   ]
  },
  {
   "cell_type": "code",
   "execution_count": 16,
   "id": "f5a08619-abc5-4c80-8fa0-981ce72810ef",
   "metadata": {},
   "outputs": [],
   "source": [
    "fh = h5py.File('sompz_SOMF_all_601.hdf5','r+', track_order=True)\n",
    "\n",
    "# f.create_dataset('catalog/sompz/unsheared/coadd_object_id', data = coadd)\n",
    "# f.create_dataset('catalog/sompz/unsheared/cell_wide', data = cells_wide_unsheared)\n",
    "# f.create_dataset('catalog/sompz/sheared_1m/cell_wide', data = cells_shared_1m)\n",
    "# f.create_dataset('catalog/sompz/sheared_1p/cell_wide', data = cells_shared_1p)\n",
    "# f.create_dataset('catalog/sompz/sheared_2m/cell_wide', data = cells_shared_2m)\n",
    "# f.create_dataset('catalog/sompz/sheared_2p/cell_wide', data = cells_shared_2p)\n",
    "\n",
    "\n",
    "\n",
    "\n",
    "fh.create_dataset('catalog/sompz/pzdata/bin0', data = nz['BIN1'])\n",
    "fh.create_dataset('catalog/sompz/pzdata/bin1', data = nz['BIN2'])\n",
    "fh.create_dataset('catalog/sompz/pzdata/bin2', data = nz['BIN3'])\n",
    "fh.create_dataset('catalog/sompz/pzdata/bin3', data = nz['BIN4'])\n",
    "# fh.create_dataset('catalog/sompz/pzdata/zhigh', data = data['Z_HIGH'])\n",
    "# fh.create_dataset('catalog/sompz/pzdata/zlow', data = data['Z_LOW'])\n",
    "\n",
    "fh.create_dataset('catalog/sompz/pzdata/pz_chat', data = pz_chat)\n",
    "fh.create_dataset('catalog/sompz/pzdata/pz_c', data = pz_c)\n",
    "\n",
    "fh.close()"
   ]
  },
  {
   "cell_type": "code",
   "execution_count": null,
   "id": "ded6e00a-cd80-4571-a433-9a9ed45f8d23",
   "metadata": {},
   "outputs": [],
   "source": []
  },
  {
   "cell_type": "code",
   "execution_count": null,
   "id": "4b4a0979-4114-4f59-8441-ae0874a62ab0",
   "metadata": {},
   "outputs": [],
   "source": []
  }
 ],
 "metadata": {
  "kernelspec": {
   "display_name": "MySOM",
   "language": "python",
   "name": "mysom"
  },
  "language_info": {
   "codemirror_mode": {
    "name": "ipython",
    "version": 3
   },
   "file_extension": ".py",
   "mimetype": "text/x-python",
   "name": "python",
   "nbconvert_exporter": "python",
   "pygments_lexer": "ipython3",
   "version": "3.9.6"
  }
 },
 "nbformat": 4,
 "nbformat_minor": 5
}
