{
 "cells": [
  {
   "cell_type": "code",
   "execution_count": 1,
   "id": "464e580a-6c06-4f77-aa7b-b2dee3e5542e",
   "metadata": {},
   "outputs": [],
   "source": [
    "from sompz.functions_sompz import *\n",
    "from sompz.functions_WL_Y3 import *\n",
    "import numpy as np\n",
    "import pandas as pd\n",
    "import matplotlib.pyplot as plt\n",
    "import pickle\n",
    "import h5py"
   ]
  },
  {
   "cell_type": "markdown",
   "id": "252ace17-443d-41dc-a379-d652c4868a63",
   "metadata": {},
   "source": [
    "## Load Balrog data assigned to Deep and Wide cells"
   ]
  },
  {
   "cell_type": "code",
   "execution_count": 11,
   "id": "32d0cfb5-029d-4312-a74c-e8ae15ff1007",
   "metadata": {},
   "outputs": [],
   "source": [
    "deep_som_size = 64*64 \n",
    "wide_som_size = 32*32\n",
    "\n",
    "n_bins = 4\n",
    "bin_edges =  [0.0, 0.358, 0.631, 0.872, 2.0] \n",
    "\n",
    "data_dir = './'\n",
    "run_name = 'test'\n",
    "\n",
    "balrog_file = '/global/cscratch1/sd/acampos/sompz_data/v0.50_andresa/deep_balrog.pkl'\n",
    "deep_cells_assignment_balrog_file = './cells_deep_balrog_newSOM_y3.txt'\n",
    "wide_cells_assignment_balrog_file = './cells_wide_balrog_SOMF_230117.txt'\n",
    "\n",
    "smooth_response_filename = '/global/u1/d/dgruen/work/sompz/test/full_run_on_data/y3_shape_response_grid_03_31_20.txt'\n",
    "\n",
    "cosmos_file = '/global/cscratch1/sd/jmyles/COSMOS2015/sompz_cosmos.h5'\n",
    "\n",
    "wide_field_file = '/global/cscratch1/sd/acampos/sompz_data/Y3_mastercat_03_31_20.h5'\n",
    "wide_cells_assignment_file = './cells_wide_assignment_all.csv'"
   ]
  },
  {
   "cell_type": "code",
   "execution_count": 3,
   "id": "90ac258a-9199-4cdc-940d-55a0e89a6223",
   "metadata": {},
   "outputs": [
    {
     "name": "stdout",
     "output_type": "stream",
     "text": [
      "Length of balrog_data: 2417437\n"
     ]
    }
   ],
   "source": [
    "balrog_data = build_balrog_df(balrog_file, \n",
    "                    deep_cells_assignment_balrog_file, \n",
    "                    wide_cells_assignment_balrog_file)"
   ]
  },
  {
   "cell_type": "code",
   "execution_count": 4,
   "id": "b9c37c58-6c90-45b6-b8d5-a07ea5f86d8c",
   "metadata": {},
   "outputs": [],
   "source": [
    "len_balrog_data = len(balrog_data)\n",
    "\n",
    "overlap_weight = calculate_weights(smooth_response_filename, \n",
    "                                   balrog_data['unsheared/snr'], \n",
    "                                   balrog_data['unsheared/size_ratio'], \n",
    "                                   balrog_data[\"injection_counts\"], \n",
    "                                   balrog_data['unsheared/weight'], \n",
    "                                   len_balrog_data)\n",
    "\n",
    "balrog_data['overlap_weight'] = overlap_weight"
   ]
  },
  {
   "cell_type": "code",
   "execution_count": 5,
   "id": "02e8b714-e27b-4abb-9f00-924b2dbccb0d",
   "metadata": {},
   "outputs": [
    {
     "name": "stderr",
     "output_type": "stream",
     "text": [
      "/global/homes/a/acampos/.conda/envs/mySOM/lib/python3.9/site-packages/pandas/core/arraylike.py:364: FutureWarning: Using a non-tuple sequence for multidimensional indexing is deprecated; use `arr[tuple(seq)]` instead of `arr[seq]`. In the future this will be interpreted as an array index, `arr[np.array(seq)]`, which will result either in an error or a different result.\n",
      "  result = getattr(ufunc, method)(*inputs, **kwargs)\n"
     ]
    }
   ],
   "source": [
    "pcchat = calculate_pcchat(deep_som_size, \n",
    "                          wide_som_size,\n",
    "                          balrog_data['cell_deep'],\n",
    "                          balrog_data['cell_wide_unsheared'], \n",
    "                          balrog_data['overlap_weight'])  "
   ]
  },
  {
   "cell_type": "code",
   "execution_count": 6,
   "id": "53170328-7ddf-4903-ba90-7722eca65108",
   "metadata": {},
   "outputs": [
    {
     "name": "stderr",
     "output_type": "stream",
     "text": [
      "/global/homes/a/acampos/.conda/envs/mySOM/lib/python3.9/site-packages/pandas/core/frame.py:3636: PerformanceWarning: DataFrame is highly fragmented.  This is usually the result of calling `frame.insert` many times, which has poor performance.  Consider using pd.concat instead.  To get a de-fragmented frame, use `newframe = frame.copy()`\n",
      "  self[k1] = value[k2]\n",
      "/global/homes/a/acampos/.conda/envs/mySOM/lib/python3.9/site-packages/pandas/core/indexing.py:1678: PerformanceWarning: DataFrame is highly fragmented.  This is usually the result of calling `frame.insert` many times, which has poor performance.  Consider using pd.concat instead.  To get a de-fragmented frame, use `newframe = frame.copy()`\n",
      "  self.obj[key] = empty_value\n"
     ]
    },
    {
     "name": "stdout",
     "output_type": "stream",
     "text": [
      "n duplicated Laigle 39399\n",
      "all cosmos deep:  521851\n",
      "matched cosmos deep:  451766\n",
      "unmatched cosmos deep:  70085\n"
     ]
    }
   ],
   "source": [
    "spec_data = build_spec_df(cosmos_file, balrog_data)"
   ]
  },
  {
   "cell_type": "code",
   "execution_count": 12,
   "id": "c282c1da-d818-4060-a7b5-6e2eff9c89fa",
   "metadata": {},
   "outputs": [],
   "source": [
    "tomo_bins_wide_dict = bin_assignment_spec(spec_data,\n",
    "                                          deep_som_size,\n",
    "                                          wide_som_size,\n",
    "                                          inj_counts = balrog_data['injection_counts'],\n",
    "                                          inj_ids = balrog_data['true_id'],\n",
    "                                          bin_edges = bin_edges)"
   ]
  },
  {
   "cell_type": "code",
   "execution_count": 8,
   "id": "43174ca4-2de6-418d-96ec-680e9ced8f94",
   "metadata": {},
   "outputs": [
    {
     "name": "stderr",
     "output_type": "stream",
     "text": [
      "/global/homes/a/acampos/.conda/envs/mySOM/lib/python3.9/site-packages/numpy/lib/arraysetops.py:583: FutureWarning: elementwise comparison failed; returning scalar instead, but in the future will perform elementwise comparison\n",
      "  mask |= (ar1 == a)\n"
     ]
    }
   ],
   "source": [
    "wide_data_assignment = pd.read_csv(wide_cells_assignment_file, index_col = 0, dtype =np.int32)"
   ]
  },
  {
   "cell_type": "code",
   "execution_count": 9,
   "id": "dcb6ac93-08e0-45d0-a2e9-5681f26d7c12",
   "metadata": {},
   "outputs": [
    {
     "name": "stdout",
     "output_type": "stream",
     "text": [
      "read select metacal done\n",
      "read coadd_object_id done\n",
      "read unsheared/T done\n",
      "read unsheared/snr done\n",
      "read unsheared/R11 done\n",
      "read unsheared/R22 done\n",
      "read unsheared/wight done\n"
     ]
    }
   ],
   "source": [
    "wide_data = build_wide_df(wide_field_file, wide_data_assignment)  "
   ]
  },
  {
   "cell_type": "code",
   "execution_count": 10,
   "id": "c14fa1cf-e7be-42f9-b016-80f2c79a24c4",
   "metadata": {},
   "outputs": [],
   "source": [
    "wide_data['overlap_weight'] = calculate_wide_overlap_weight(wide_data['unsheared/R11'], \n",
    "                                                    wide_data['unsheared/R22'], \n",
    "                                                    wide_data['unsheared/weight'])"
   ]
  },
  {
   "cell_type": "code",
   "execution_count": 14,
   "id": "48691605-3deb-41c1-878d-7d0cf6ce9ea8",
   "metadata": {},
   "outputs": [
    {
     "name": "stdout",
     "output_type": "stream",
     "text": [
      "{'bin0': 23580877, 'bin1': 27236473, 'bin2': 24773059, 'bin3': 24618535}\n"
     ]
    }
   ],
   "source": [
    "cell_occupation_info = wide_data.groupby('cell_wide_unsheared')['cell_wide_unsheared'].count()\n",
    "pickle.dump(cell_occupation_info, open('cell_occupation_info_wide_som_SOMF_230117.pkl', 'wb'))\n",
    "\n",
    "bin_occupation_info = {'bin' + str(i) : np.sum(cell_occupation_info.loc[tomo_bins_wide_dict[i]].values) for i in range(n_bins)}\n",
    "print(bin_occupation_info)"
   ]
  },
  {
   "cell_type": "code",
   "execution_count": 15,
   "id": "b9bb6168-30e7-4fa1-ab63-4b3a834cd913",
   "metadata": {},
   "outputs": [],
   "source": [
    "# convert to format where tomo_bins_wide[i] is a 2D array, first column cell_id, second column an arbitrary weight\n",
    "tomo_bins_wide = tomo_bins_wide_2d(tomo_bins_wide_dict)"
   ]
  },
  {
   "cell_type": "code",
   "execution_count": 17,
   "id": "0968293e-cf0b-4f5d-979c-00ad20c32744",
   "metadata": {},
   "outputs": [],
   "source": [
    "zbins_max = 6.00\n",
    "zbins_dz  = 0.01\n",
    "# settings for output histogram - note that zbins_max needs to agree with Laigle currently\n",
    "\n",
    "zmax_pileup = 3.0\n",
    "zmax_weight = 1.0\n",
    "# all z-bins above zmax_pileup will be piled into this last bin\n",
    "# Can up or downweight the last bin\n",
    "\n",
    "zp_catalog = 30"
   ]
  },
  {
   "cell_type": "code",
   "execution_count": 18,
   "id": "d1e37b7e-fe9e-4e8b-b131-217bd7ef8bfe",
   "metadata": {},
   "outputs": [],
   "source": [
    "zbins = np.arange(-zbins_dz/2.,zbins_max+zbins_dz,zbins_dz) # need to match Laigle binning if in 'usepz' mode\n",
    "zmean = (zbins[1:] + zbins[:-1])/2\n",
    "fullpz = [\"Z{:.2f}\".format(s).replace(\".\",\"_\") for s in np.arange(0,6.01,0.01)] # stays hardcoded while we use Laigle catalog as only truth"
   ]
  },
  {
   "cell_type": "code",
   "execution_count": 19,
   "id": "ac980f0a-c104-40ee-9315-83e8789690a8",
   "metadata": {},
   "outputs": [],
   "source": [
    "pointz = 'Z'\n",
    "key = fullpz\n",
    "keylabel = 'modal_even'"
   ]
  },
  {
   "cell_type": "code",
   "execution_count": 20,
   "id": "945e3bb8-82ac-46c9-9b26-9b334bb35339",
   "metadata": {},
   "outputs": [],
   "source": [
    "hists_wide = redshift_distributions_wide(data = wide_data,\n",
    "                                         deep_data = spec_data,\n",
    "                                         overlap_weighted_pchat = True, \n",
    "                                         overlap_weighted_pzc = True, \n",
    "                                         bins = zbins,\n",
    "                                         pcchat = pcchat,\n",
    "                                         tomo_bins = tomo_bins_wide,\n",
    "                                         key = key,\n",
    "                                         force_assignment = False,\n",
    "                                         cell_key = 'cell_wide_unsheared')"
   ]
  },
  {
   "cell_type": "code",
   "execution_count": null,
   "id": "ef542852-1b13-4c7c-8b2f-1ab2a486cc95",
   "metadata": {},
   "outputs": [],
   "source": [
    "np.save('Y3_hists_wide_NOT_BIN_CONDITIONALIZED_{}.npy'.format(keylabel), hists_wide)\n",
    "\n",
    "# cm.save_des_nz(hists_wide, zbins, n_bins, data_dir, run_name, keylabel)\n",
    "plot_nz(hists_wide, zbins, 'Y3_nz_newbinning_onwide_NOT_BIN_CONDITIONALIZED_{}.png'.format(keylabel))"
   ]
  },
  {
   "cell_type": "code",
   "execution_count": null,
   "id": "fe61e674-00b6-496d-84d9-8596f4fc5b4d",
   "metadata": {},
   "outputs": [],
   "source": [
    "\n",
    "\n",
    "cells, cell_weights_wide = get_cell_weights_wide(wide_data, overlap_weighted_pchat=True, force_assignment=False, cell_key='cell_wide_unsheared')\n",
    "\n",
    "np.save(data_dir + 'Y3_pchat_{}.npy'.format(keylabel), cell_weights_wide)"
   ]
  },
  {
   "cell_type": "code",
   "execution_count": null,
   "id": "d2ef8333-c5a3-458a-be70-cf09687f8aed",
   "metadata": {},
   "outputs": [],
   "source": [
    "#overlap and hist bin cond\n",
    "\n",
    "hists_wide_bin_cond = np.array([nz_bin_conditioned(wide_data, spec_data, overlap_weighted_pchat= True, \n",
    "                                                   overlap_weighted_pzc=True, tomo_cells=tomo_bins_wide[i], \n",
    "                                                   zbins=zbins, pcchat = pcchat, cell_wide_key='cell_wide_unsheared', \n",
    "                                                   zkey=key) for i in range(n_bins)])\n",
    "\n",
    "np.save(data_dir + 'Y3_hists_wide_bin_conditionalized_{}.npy'.format(keylabel), hists_wide_bin_cond)\n",
    "# cm.save_des_nz(hists_wide_bin_cond, zbins, n_bins, data_dir, run_name, keylabel+'_bincond')\n",
    "plot_nz(hists_wide_bin_cond, zbins, data_dir + 'Y3_nz_newbinning_onwide_bin_cond_{}.png'.format(keylabel))\n",
    "plot_nz_overlap([hists_wide_bin_cond], [keylabel], data_dir)\n",
    "#END bin conditionalized n(z)"
   ]
  },
  {
   "cell_type": "code",
   "execution_count": null,
   "id": "846db522-ebc7-4848-abdc-0a10295e3764",
   "metadata": {},
   "outputs": [],
   "source": [
    "####################\n",
    "# Pile up very high z\n",
    "\n",
    "\n",
    "zbins_piled,zmean_piled, hists_wide_piled=pileup(hists_wide,zbins,zmean,zmax_pileup,zbins_dz,zmax_weight,n_bins)\n",
    "zbins_piled,zmean_piled, hists_wide_bin_cond_piled=pileup(hists_wide_bin_cond,zbins,zmean,zmax_pileup,zbins_dz,zmax_weight,n_bins)\n",
    "\n",
    "#plot comparing bin_cond with pileup\n",
    "results, deltas = redshift_histograms_stats(hists_wide_piled, hists_wide_bin_cond_piled, zbins_piled, 'using p(z|c,bhat)')\n",
    "fig_wide = plot_redshift_histograms(hists_wide_piled, hists_wide_bin_cond_piled, zbins_piled, 'Bin Conditioned vs. Not Bin Conditioned n(z)', 'Bin Conditioned', max_pz = 3)\n",
    "fig_wide.savefig(data_dir + 'Y3_pzc_vs_pzcbhat_wide_faint.png', dpi=300)\n",
    "print(results)\n",
    "print(deltas)\n",
    "\n",
    "#plot comparing pileup effect\n",
    "means_bc, sigmas_bc = get_mean_sigma(zmean, hists_wide_bin_cond)\n",
    "means_bc_piled, sigmas_bc_piled = get_mean_sigma(zmean_piled, hists_wide_bin_cond_piled)\n",
    "plt.figure(figsize=(16.,9.))\n",
    "colors=['blue','orange','green','red']\n",
    "for i in range(len(hists_wide)):\n",
    "    plt.fill_between(zmean, hists_wide_bin_cond[i], color= colors[i],alpha=0.3) #,label=\"fiducial\")\n",
    "    plt.axvline(means_bc[i], linestyle='-.', color= colors[i],label=str(i)+' %.3f'%(means_bc[i]))\n",
    "    plt.plot(zmean_piled, hists_wide_bin_cond_piled[i], color= colors[i])#,label=\"bin conditional\")\n",
    "    plt.axvline(means_bc_piled[i], linestyle='-', color= colors[i],label=str(i)+' pile-up: %.3f'%(means_bc_piled[i]) )\n",
    "plt.xlabel(r'$z$')\n",
    "plt.ylabel(r'$p(z)$')\n",
    "plt.xlim(0,3)\n",
    "plt.legend()\n",
    "plt.title('Wide n(z)')\n",
    "plt.savefig(data_dir + 'Y3_nz_newbinning_onwide_bin_cond_pileup3_faint.png')\n",
    "\n",
    "#save\n",
    "deltas.to_pickle(data_dir + 'Y3_deltas_pzc_pzcbhat.pkl')\n",
    "results.to_pickle(data_dir + 'Y3_results_pzc_pzcbhat.pkl')\n",
    "np.save(data_dir + 'Y3_hists_wide_bin_conditionalized_pileup3_{}.npy'.format(keylabel), hists_wide_bin_cond_piled)\n",
    "save_des_nz(hists_wide_bin_cond_piled, zbins_piled, n_bins, data_dir, run_name, keylabel+'_Y3_bincond_pileup3')\n",
    "\n",
    "#zbins=zbins_piled\n",
    "hists_wide = hists_wide_bin_cond_piled # this is what is used moving forward.\n",
    "#END pile up"
   ]
  },
  {
   "cell_type": "markdown",
   "id": "1e9237cc-c7af-4d5e-b7fd-8a137581f1a6",
   "metadata": {},
   "source": [
    "## Smooth"
   ]
  },
  {
   "cell_type": "code",
   "execution_count": null,
   "id": "c6971056-1f41-4d37-9e88-2d7b0208c473",
   "metadata": {},
   "outputs": [],
   "source": [
    "####################\n",
    "# Smooth\n",
    "\n",
    "# templatef='/global/cscratch1/sd/aamon/DVs/template.fits'\n",
    "templatef='/global/cscratch1/sd/acampos/cosmosis/cosmosis-des-library/y3-3x2pt/data/des-y3/sim_data_vectors/sim_3x2pt_TATT_sample3.fits'\n",
    "\n",
    "\n",
    "filen='Y3_y3_redshift_distributions_test_modal_even_Y3_bincond_pileup3.fits'\n",
    "to2point(filen,templatef, run_name,keylabel,data_dir)\n",
    "filen=data_dir+'Y3_2pt_%s_%s.fits' % (keylabel,run_name)\n",
    "filen2=data_dir+'Y3_y3_redshift_distributions_%s_%s_bincond_pileup3_smooth.txt' % (keylabel,run_name)\n",
    "smooth(data_dir+'Y3_2pt_%s_%s.fits' % (keylabel,run_name),filen2, run_name,keylabel,data_dir,hists_wide_bin_cond_piled)\n",
    "\n",
    "#END smooth"
   ]
  },
  {
   "cell_type": "markdown",
   "id": "21e24d81-db98-40f5-8929-7ab16a767f1e",
   "metadata": {},
   "source": [
    "## Generate h5 file"
   ]
  },
  {
   "cell_type": "code",
   "execution_count": 43,
   "id": "aefab0e2-b533-4a91-b820-656c233de093",
   "metadata": {},
   "outputs": [],
   "source": [
    "cells_wide_unsheared = wide_data['cell_wide_unsheared'].copy()"
   ]
  },
  {
   "cell_type": "code",
   "execution_count": 46,
   "id": "c002cda8-b374-449f-9d81-fbb53d6535b1",
   "metadata": {},
   "outputs": [],
   "source": [
    "coadd = wide_data['coadd_object_id'].copy()"
   ]
  },
  {
   "cell_type": "code",
   "execution_count": 60,
   "id": "6b066a92-bd90-4ebf-9277-d1e888cd0add",
   "metadata": {},
   "outputs": [],
   "source": [
    "sompzh5_pass = wide_data.rename(columns={\"cell_wide_unsheared\": \"cells_wide_unsheared\"})"
   ]
  },
  {
   "cell_type": "code",
   "execution_count": 64,
   "id": "14418c4f-3202-4a9d-8da5-24a2357b0108",
   "metadata": {},
   "outputs": [
    {
     "data": {
      "text/plain": [
       "<HDF5 dataset \"cell_wide\": shape (100208944,), type \"<i4\">"
      ]
     },
     "execution_count": 64,
     "metadata": {},
     "output_type": "execute_result"
    }
   ],
   "source": [
    "f = h5py.File('sompz_test.hdf5','r+', track_order=True)\n",
    "\n",
    "f.create_dataset('catalog/sompz/unsheared/coadd_object_id', data = wide_data['coadd_object_id'])\n",
    "f.create_dataset('catalog/sompz/unsheared/cell_wide',       data = wide_data['cell_wide_unsheared'])\n",
    "f.create_dataset('catalog/sompz/sheared_1m/cell_wide',      data = wide_data['cell_wide_sheared_1m'])\n",
    "f.create_dataset('catalog/sompz/sheared_1p/cell_wide',      data = wide_data['cell_wide_sheared_1m'])\n",
    "f.create_dataset('catalog/sompz/sheared_2m/cell_wide',      data = wide_data['cell_wide_sheared_1m'])\n",
    "f.create_dataset('catalog/sompz/sheared_2p/cell_wide',      data = wide_data['cell_wide_sheared_1m'])"
   ]
  },
  {
   "cell_type": "code",
   "execution_count": 65,
   "id": "4150649b-fb9f-446e-b84f-ae1354f9adc6",
   "metadata": {},
   "outputs": [
    {
     "data": {
      "text/plain": [
       "<HDF5 dataset \"zlow\": shape (300,), type \">f8\">"
      ]
     },
     "execution_count": 65,
     "metadata": {},
     "output_type": "execute_result"
    }
   ],
   "source": [
    "nz = fitsio.read('Y3_y3_redshift_distributions_test_modal_even_Y3_bincond_pileup3.fits')\n",
    "\n",
    "f.create_dataset('catalog/sompz/pzdata/bin0',  data = nz['BIN1'])\n",
    "f.create_dataset('catalog/sompz/pzdata/bin1',  data = nz['BIN2'])\n",
    "f.create_dataset('catalog/sompz/pzdata/bin2',  data = nz['BIN3'])\n",
    "f.create_dataset('catalog/sompz/pzdata/bin3',  data = nz['BIN4'])\n",
    "f.create_dataset('catalog/sompz/pzdata/zhigh', data = nz['Z_HIGH'])\n",
    "f.create_dataset('catalog/sompz/pzdata/zlow',  data = nz['Z_LOW'])"
   ]
  },
  {
   "cell_type": "code",
   "execution_count": 66,
   "id": "48a35add-91dc-47fa-9750-72cba2b8c033",
   "metadata": {},
   "outputs": [],
   "source": [
    "all_wide_cells = np.arange(wide_som_size)\n",
    "pz_chat = np.array(histogram(wide_data,\n",
    "                             spec_data,\n",
    "                             key=key,\n",
    "                             pcchat = pcchat,\n",
    "                             cells=all_wide_cells, \n",
    "                             cell_weights=np.ones(len(all_wide_cells)), \n",
    "                             overlap_weighted_pzc=True,\n",
    "                             bins=zbins, \n",
    "                             individual_chat=True))\n",
    "\n",
    "np.save(data_dir + 'pzchat.npy', pz_chat)"
   ]
  },
  {
   "cell_type": "code",
   "execution_count": 67,
   "id": "9609d4e2-b7d9-40a8-81f4-809cfbe95545",
   "metadata": {},
   "outputs": [
    {
     "name": "stdout",
     "output_type": "stream",
     "text": [
      "(1024, 601)\n"
     ]
    }
   ],
   "source": [
    "f.create_dataset('catalog/sompz/pzdata/pz_chat', data = pz_chat)\n",
    "print(f['catalog/sompz/pzdata/pz_chat'][...].shape)"
   ]
  },
  {
   "cell_type": "code",
   "execution_count": 68,
   "id": "5109d225-7903-49df-8489-fce8854d17ab",
   "metadata": {},
   "outputs": [],
   "source": [
    "all_deep_cells = np.arange(deep_som_size)\n",
    "pz_c = np.array(get_deep_histograms(wide_data,\n",
    "                                    spec_data,\n",
    "                                    key=key,\n",
    "                                    cells=all_deep_cells,\n",
    "                                    overlap_weighted_pzc=True,\n",
    "                                    bins=zbins))\n",
    "np.save(data_dir + 'pzc.npy', pz_c)"
   ]
  },
  {
   "cell_type": "code",
   "execution_count": 69,
   "id": "ec3cd0bc-fd2f-4abf-97f7-1777ab5a5759",
   "metadata": {},
   "outputs": [
    {
     "name": "stdout",
     "output_type": "stream",
     "text": [
      "(4096, 601)\n"
     ]
    }
   ],
   "source": [
    "f.create_dataset('catalog/sompz/pzdata/pz_c', data = pz_c)\n",
    "print(f['catalog/sompz/pzdata/pz_c'][...].shape)"
   ]
  },
  {
   "cell_type": "code",
   "execution_count": 70,
   "id": "27a9f437-2f60-4ea9-9f74-b07dab387553",
   "metadata": {},
   "outputs": [],
   "source": [
    "# convert to DF with cell <-> bin relation\n",
    "tmp_cells = np.concatenate([tomo_bins_wide[nbin][:,0] for nbin in tomo_bins_wide])\n",
    "tmp_bins = np.concatenate([(np.ones(len(tomo_bins_wide[nbin][:,0])) * nbin).astype(int) for \n",
    "                           nbin in tomo_bins_wide])\n",
    "tomo_bin_hashtable = pd.Series(tmp_bins, tmp_cells)\n",
    "\n",
    "#sompzh5 = h5py.File(sompzh5_file, mode='a') # read again with no WL selection applied"
   ]
  },
  {
   "cell_type": "code",
   "execution_count": 71,
   "id": "25707bde-c0d0-48f8-a3ed-175cee14236f",
   "metadata": {},
   "outputs": [],
   "source": [
    "nrows = coadd.shape[0]"
   ]
  },
  {
   "cell_type": "code",
   "execution_count": 72,
   "id": "2d748696-a8dd-45d8-b3d1-a551bc44d1d7",
   "metadata": {},
   "outputs": [
    {
     "name": "stdout",
     "output_type": "stream",
     "text": [
      "add binning unsheared\n",
      "that worked!\n",
      "add binning sheared_1m\n",
      "that worked!\n",
      "add binning sheared_1p\n",
      "that worked!\n",
      "add binning sheared_2m\n",
      "that worked!\n",
      "add binning sheared_2p\n",
      "that worked!\n"
     ]
    }
   ],
   "source": [
    "fluxtypes = ['unsheared', 'sheared_1m', 'sheared_1p', 'sheared_2m', 'sheared_2p']\n",
    "\n",
    "# add binning info to catalog\n",
    "for fluxtype in fluxtypes:\n",
    "    print('add binning {}'.format(fluxtype))\n",
    "    try:\n",
    "        #print(f['catalog/sompz/unsheared'].keys())\n",
    "        f.create_dataset('catalog/sompz/{}/{}'.format(fluxtype, 'bhat'), maxshape=(nrows,),\n",
    "                shape=(nrows,), dtype='i8')\n",
    "        print(\"that worked!\")\n",
    "    except Exception as e:\n",
    "        print(e)\n",
    "    tmp = wide_data['cell_wide_{}'.format(fluxtype)].map(tomo_bin_hashtable)\n",
    "    tmp[np.isnan(tmp)] = -1\n",
    "    f['catalog/sompz/{}/bhat'.format(fluxtype)][...] = tmp\n"
   ]
  },
  {
   "cell_type": "code",
   "execution_count": 62,
   "id": "53b4ad3d-73c3-48a6-ae79-7a9105f14695",
   "metadata": {},
   "outputs": [],
   "source": [
    "f.close()"
   ]
  },
  {
   "cell_type": "code",
   "execution_count": null,
   "id": "bab56234-efb5-404d-8e56-a6ead4862f9b",
   "metadata": {},
   "outputs": [],
   "source": []
  }
 ],
 "metadata": {
  "kernelspec": {
   "display_name": "MySOM",
   "language": "python",
   "name": "mysom"
  },
  "language_info": {
   "codemirror_mode": {
    "name": "ipython",
    "version": 3
   },
   "file_extension": ".py",
   "mimetype": "text/x-python",
   "name": "python",
   "nbconvert_exporter": "python",
   "pygments_lexer": "ipython3",
   "version": "3.9.6"
  }
 },
 "nbformat": 4,
 "nbformat_minor": 5
}
