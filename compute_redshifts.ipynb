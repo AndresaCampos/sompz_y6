{
 "cells": [
  {
   "cell_type": "code",
   "execution_count": 1,
   "id": "f0851c0c-9383-44b9-bd97-4c15b935f1b0",
   "metadata": {
    "tags": []
   },
   "outputs": [],
   "source": [
    "import time\n",
    "start = time.time()"
   ]
  },
  {
   "cell_type": "code",
   "execution_count": 2,
   "id": "464e580a-6c06-4f77-aa7b-b2dee3e5542e",
   "metadata": {
    "tags": []
   },
   "outputs": [],
   "source": [
    "from sompz.functions_sompz import *\n",
    "from sompz.functions_WL import *\n",
    "import numpy as np\n",
    "import pandas as pd\n",
    "import matplotlib.pyplot as plt\n",
    "import pickle\n",
    "import h5py\n",
    "import yaml\n",
    "import sys"
   ]
  },
  {
   "cell_type": "markdown",
   "id": "252ace17-443d-41dc-a379-d652c4868a63",
   "metadata": {},
   "source": [
    "## Files and global variables"
   ]
  },
  {
   "cell_type": "code",
   "execution_count": 3,
   "id": "32d0cfb5-029d-4312-a74c-e8ae15ff1007",
   "metadata": {
    "tags": []
   },
   "outputs": [],
   "source": [
    "# if len(sys.argv)==1:\n",
    "#     cfgfile = 'y3_sompz.cfg'\n",
    "# else:\n",
    "# \tcfgfile = sys.argv[1]\n",
    "\n",
    "cfgfile = 'y6_sompz.cfg'\n",
    "with open(cfgfile, 'r') as fp:\n",
    "    cfg = yaml.safe_load(fp)"
   ]
  },
  {
   "cell_type": "code",
   "execution_count": 4,
   "id": "06a91a93",
   "metadata": {
    "collapsed": false,
    "jupyter": {
     "outputs_hidden": false
    },
    "tags": []
   },
   "outputs": [],
   "source": [
    "deep_som_size = cfg['deep_som_size']\n",
    "wide_som_size = cfg['wide_som_size']\n",
    "\n",
    "\n",
    "n_bins = cfg['n_bins']\n",
    "bin_edges =  cfg['bin_edges']\n",
    "\n",
    "out_dir =  cfg['out_dir']\n",
    "run_name = cfg['run_name']\n",
    "\n",
    "balrog_file = cfg['balrog_file']\n",
    "deep_balrog_file = cfg['deep_balrog_file']\n",
    "deep_cells_assignment_balrog_file = cfg['deep_cells_assignment_balrog_file']\n",
    "wide_cells_assignment_balrog_file = cfg['wide_cells_assignment_balrog_file']\n",
    "\n",
    "########################## need to update ##################################\n",
    "smooth_response_filename = cfg['smooth_response_filename']\n",
    "cosmos_file = cfg['z_file']\n",
    "\n",
    "wide_file = cfg['wide_file']\n",
    "wide_cells_assignment_file = cfg['wide_cells_assignment_wide_file']"
   ]
  },
  {
   "cell_type": "code",
   "execution_count": 5,
   "id": "f02200a3-bc67-4070-a6bc-d6105d993168",
   "metadata": {
    "tags": []
   },
   "outputs": [
    {
     "data": {
      "text/plain": [
       "0"
      ]
     },
     "execution_count": 5,
     "metadata": {},
     "output_type": "execute_result"
    }
   ],
   "source": [
    "import os\n",
    "os.system('mkdir -p {}'.format(out_dir))"
   ]
  },
  {
   "cell_type": "code",
   "execution_count": 6,
   "id": "0968293e-cf0b-4f5d-979c-00ad20c32744",
   "metadata": {
    "tags": []
   },
   "outputs": [],
   "source": [
    "# settings for output histogram - note that zbins_max needs to agree with Laigle currently\n",
    "zbins_max = cfg['zbins_max']\n",
    "zbins_dz  = cfg['zbins_dz']\n",
    "\n",
    "# all z-bins above zmax_pileup will be piled into this last bin\n",
    "# Can up or downweight the last bin\n",
    "zmax_pileup = cfg['zmax_pileup']\n",
    "zmax_weight = cfg['zmax_weight']"
   ]
  },
  {
   "cell_type": "code",
   "execution_count": 7,
   "id": "d1e37b7e-fe9e-4e8b-b131-217bd7ef8bfe",
   "metadata": {
    "tags": []
   },
   "outputs": [],
   "source": [
    "zbins  = np.arange(-zbins_dz/2.,zbins_max+zbins_dz,zbins_dz) # need to match Laigle binning if in 'usepz' mode\n",
    "zmean  = (zbins[1:] + zbins[:-1])/2\n",
    "fullpz = [\"Z{:.2f}\".format(s).replace(\".\",\"_\") for s in np.arange(0,6.01,0.01)] # stays hardcoded while we use Laigle catalog as only truth"
   ]
  },
  {
   "cell_type": "code",
   "execution_count": 8,
   "id": "ac980f0a-c104-40ee-9315-83e8789690a8",
   "metadata": {
    "tags": []
   },
   "outputs": [],
   "source": [
    "key      = fullpz\n",
    "pointz   = 'Z'\n",
    "keylabel = 'modal_even'"
   ]
  },
  {
   "cell_type": "markdown",
   "id": "4bb93aa0-4681-43e0-bda6-bce6a173c83a",
   "metadata": {},
   "source": [
    "## Load cell assignment into dataframes for each dataset and calculate weights"
   ]
  },
  {
   "cell_type": "code",
   "execution_count": 9,
   "id": "b9c37c58-6c90-45b6-b8d5-a07ea5f86d8c",
   "metadata": {
    "tags": []
   },
   "outputs": [
    {
     "name": "stdout",
     "output_type": "stream",
     "text": [
      "Length of balrog_data: 1489859\n"
     ]
    }
   ],
   "source": [
    "balrog_data = build_balrog_df(deep_balrog_file, \n",
    "                    deep_cells_assignment_balrog_file, \n",
    "                    wide_cells_assignment_balrog_file)\n",
    "\n",
    "balrog_data['overlap_weight'] = calculate_weights(smooth_response_filename, \n",
    "                                   balrog_data['unsheared/snr'], \n",
    "                                   balrog_data['unsheared/size_ratio'], \n",
    "                                   balrog_data[\"injection_counts\"], \n",
    "                                   balrog_data['unsheared/weight'], \n",
    "                                   len(balrog_data))"
   ]
  },
  {
   "cell_type": "code",
   "execution_count": 10,
   "id": "53170328-7ddf-4903-ba90-7722eca65108",
   "metadata": {
    "tags": []
   },
   "outputs": [
    {
     "name": "stdout",
     "output_type": "stream",
     "text": [
      "n duplicated Laigle 36227\n",
      "all cosmos deep:  601822\n",
      "matched cosmos deep:  519660\n",
      "unmatched cosmos deep:  82162\n"
     ]
    }
   ],
   "source": [
    "spec_data = build_spec_df(cosmos_file, balrog_data)"
   ]
  },
  {
   "cell_type": "code",
   "execution_count": 11,
   "id": "bbb0c3aa-dec1-4b93-8674-12a357371f05",
   "metadata": {
    "tags": []
   },
   "outputs": [
    {
     "name": "stdout",
     "output_type": "stream",
     "text": [
      "read coadd_object_id done\n",
      "read unsheared/fluxes done\n",
      "read unsheared/snr done\n",
      "read unsheared/T done\n",
      "read unsheared/weight done\n"
     ]
    }
   ],
   "source": [
    "try:\n",
    "    wide_data_assignment = pd.read_pickle(wide_cells_assignment_file)\n",
    "except:\n",
    "    wide_data_assignment = pd.read_csv(wide_cells_assignment_file, header=None, dtype =np.int32).rename(columns={0: 'cell_wide_unsheared'})\n",
    "\n",
    "wide_data = build_wide_df(wide_file, wide_data_assignment)"
   ]
  },
  {
   "cell_type": "code",
   "execution_count": 12,
   "id": "d8bfbc69-c4ef-4e2a-ab04-3a3b0492e8f0",
   "metadata": {
    "tags": []
   },
   "outputs": [
    {
     "data": {
      "text/html": [
       "<div>\n",
       "<style scoped>\n",
       "    .dataframe tbody tr th:only-of-type {\n",
       "        vertical-align: middle;\n",
       "    }\n",
       "\n",
       "    .dataframe tbody tr th {\n",
       "        vertical-align: top;\n",
       "    }\n",
       "\n",
       "    .dataframe thead th {\n",
       "        text-align: right;\n",
       "    }\n",
       "</style>\n",
       "<table border=\"1\" class=\"dataframe\">\n",
       "  <thead>\n",
       "    <tr style=\"text-align: right;\">\n",
       "      <th></th>\n",
       "      <th>cell_wide_unsheared</th>\n",
       "      <th>coadd_object_id</th>\n",
       "      <th>unsheared/flux_g</th>\n",
       "      <th>unsheared/flux_i</th>\n",
       "      <th>unsheared/flux_r</th>\n",
       "      <th>unsheared/flux_z</th>\n",
       "      <th>unsheared/snr</th>\n",
       "      <th>unsheared/size_ratio</th>\n",
       "      <th>unsheared/weight</th>\n",
       "    </tr>\n",
       "  </thead>\n",
       "  <tbody>\n",
       "    <tr>\n",
       "      <th>0</th>\n",
       "      <td>485</td>\n",
       "      <td>3011243318</td>\n",
       "      <td>183.123596</td>\n",
       "      <td>349.691010</td>\n",
       "      <td>338.566803</td>\n",
       "      <td>684.489014</td>\n",
       "      <td>10.942565</td>\n",
       "      <td>0.629415</td>\n",
       "      <td>2.864772</td>\n",
       "    </tr>\n",
       "    <tr>\n",
       "      <th>1</th>\n",
       "      <td>291</td>\n",
       "      <td>3011243324</td>\n",
       "      <td>77.518311</td>\n",
       "      <td>501.408905</td>\n",
       "      <td>299.974030</td>\n",
       "      <td>938.731018</td>\n",
       "      <td>12.771866</td>\n",
       "      <td>0.818861</td>\n",
       "      <td>2.891577</td>\n",
       "    </tr>\n",
       "    <tr>\n",
       "      <th>2</th>\n",
       "      <td>255</td>\n",
       "      <td>3011243303</td>\n",
       "      <td>603.834717</td>\n",
       "      <td>2441.174561</td>\n",
       "      <td>1648.879395</td>\n",
       "      <td>2904.755371</td>\n",
       "      <td>60.417976</td>\n",
       "      <td>0.920065</td>\n",
       "      <td>2.937210</td>\n",
       "    </tr>\n",
       "    <tr>\n",
       "      <th>3</th>\n",
       "      <td>137</td>\n",
       "      <td>3011243379</td>\n",
       "      <td>96.841751</td>\n",
       "      <td>998.797546</td>\n",
       "      <td>263.494446</td>\n",
       "      <td>2003.656982</td>\n",
       "      <td>18.126392</td>\n",
       "      <td>0.526232</td>\n",
       "      <td>2.910537</td>\n",
       "    </tr>\n",
       "    <tr>\n",
       "      <th>4</th>\n",
       "      <td>253</td>\n",
       "      <td>3011243403</td>\n",
       "      <td>479.999756</td>\n",
       "      <td>2053.840576</td>\n",
       "      <td>1408.346069</td>\n",
       "      <td>2489.636963</td>\n",
       "      <td>46.809628</td>\n",
       "      <td>1.430249</td>\n",
       "      <td>2.936178</td>\n",
       "    </tr>\n",
       "    <tr>\n",
       "      <th>...</th>\n",
       "      <td>...</td>\n",
       "      <td>...</td>\n",
       "      <td>...</td>\n",
       "      <td>...</td>\n",
       "      <td>...</td>\n",
       "      <td>...</td>\n",
       "      <td>...</td>\n",
       "      <td>...</td>\n",
       "      <td>...</td>\n",
       "    </tr>\n",
       "    <tr>\n",
       "      <th>150093686</th>\n",
       "      <td>727</td>\n",
       "      <td>1692934595</td>\n",
       "      <td>1008.386047</td>\n",
       "      <td>2629.930664</td>\n",
       "      <td>2131.592773</td>\n",
       "      <td>3503.870605</td>\n",
       "      <td>69.344582</td>\n",
       "      <td>1.195827</td>\n",
       "      <td>2.939262</td>\n",
       "    </tr>\n",
       "    <tr>\n",
       "      <th>150093687</th>\n",
       "      <td>171</td>\n",
       "      <td>1692934650</td>\n",
       "      <td>107.185638</td>\n",
       "      <td>1160.128906</td>\n",
       "      <td>374.950562</td>\n",
       "      <td>1962.685791</td>\n",
       "      <td>23.315990</td>\n",
       "      <td>0.683746</td>\n",
       "      <td>2.921052</td>\n",
       "    </tr>\n",
       "    <tr>\n",
       "      <th>150093688</th>\n",
       "      <td>592</td>\n",
       "      <td>1692934651</td>\n",
       "      <td>381.503082</td>\n",
       "      <td>1262.024658</td>\n",
       "      <td>802.661743</td>\n",
       "      <td>1124.253540</td>\n",
       "      <td>27.256226</td>\n",
       "      <td>0.656070</td>\n",
       "      <td>2.923368</td>\n",
       "    </tr>\n",
       "    <tr>\n",
       "      <th>150093689</th>\n",
       "      <td>171</td>\n",
       "      <td>1692934648</td>\n",
       "      <td>93.381989</td>\n",
       "      <td>1100.065552</td>\n",
       "      <td>305.565643</td>\n",
       "      <td>1830.348267</td>\n",
       "      <td>21.712677</td>\n",
       "      <td>3.427138</td>\n",
       "      <td>2.932898</td>\n",
       "    </tr>\n",
       "    <tr>\n",
       "      <th>150093690</th>\n",
       "      <td>268</td>\n",
       "      <td>1692934646</td>\n",
       "      <td>148.945541</td>\n",
       "      <td>1170.411499</td>\n",
       "      <td>474.522003</td>\n",
       "      <td>1943.568726</td>\n",
       "      <td>24.184885</td>\n",
       "      <td>1.295648</td>\n",
       "      <td>2.928993</td>\n",
       "    </tr>\n",
       "  </tbody>\n",
       "</table>\n",
       "<p>150093691 rows × 9 columns</p>\n",
       "</div>"
      ],
      "text/plain": [
       "           cell_wide_unsheared  coadd_object_id  unsheared/flux_g  \\\n",
       "0                          485       3011243318        183.123596   \n",
       "1                          291       3011243324         77.518311   \n",
       "2                          255       3011243303        603.834717   \n",
       "3                          137       3011243379         96.841751   \n",
       "4                          253       3011243403        479.999756   \n",
       "...                        ...              ...               ...   \n",
       "150093686                  727       1692934595       1008.386047   \n",
       "150093687                  171       1692934650        107.185638   \n",
       "150093688                  592       1692934651        381.503082   \n",
       "150093689                  171       1692934648         93.381989   \n",
       "150093690                  268       1692934646        148.945541   \n",
       "\n",
       "           unsheared/flux_i  unsheared/flux_r  unsheared/flux_z  \\\n",
       "0                349.691010        338.566803        684.489014   \n",
       "1                501.408905        299.974030        938.731018   \n",
       "2               2441.174561       1648.879395       2904.755371   \n",
       "3                998.797546        263.494446       2003.656982   \n",
       "4               2053.840576       1408.346069       2489.636963   \n",
       "...                     ...               ...               ...   \n",
       "150093686       2629.930664       2131.592773       3503.870605   \n",
       "150093687       1160.128906        374.950562       1962.685791   \n",
       "150093688       1262.024658        802.661743       1124.253540   \n",
       "150093689       1100.065552        305.565643       1830.348267   \n",
       "150093690       1170.411499        474.522003       1943.568726   \n",
       "\n",
       "           unsheared/snr  unsheared/size_ratio  unsheared/weight  \n",
       "0              10.942565              0.629415          2.864772  \n",
       "1              12.771866              0.818861          2.891577  \n",
       "2              60.417976              0.920065          2.937210  \n",
       "3              18.126392              0.526232          2.910537  \n",
       "4              46.809628              1.430249          2.936178  \n",
       "...                  ...                   ...               ...  \n",
       "150093686      69.344582              1.195827          2.939262  \n",
       "150093687      23.315990              0.683746          2.921052  \n",
       "150093688      27.256226              0.656070          2.923368  \n",
       "150093689      21.712677              3.427138          2.932898  \n",
       "150093690      24.184885              1.295648          2.928993  \n",
       "\n",
       "[150093691 rows x 9 columns]"
      ]
     },
     "execution_count": 12,
     "metadata": {},
     "output_type": "execute_result"
    }
   ],
   "source": [
    "wide_data"
   ]
  },
  {
   "cell_type": "code",
   "execution_count": 13,
   "id": "68d71573-1e82-4f89-b8a9-95471437043c",
   "metadata": {
    "tags": []
   },
   "outputs": [],
   "source": [
    "def get_cell_weights(data, overlap_weighted, key):\n",
    "    \"\"\"Given data, get cell weights and indices\n",
    "\n",
    "    Parameters\n",
    "    ----------\n",
    "    data :  Dataframe we extract parameters from\n",
    "    overlap_weighted : If True, use mean overlap weights of cells.\n",
    "    key :   Which key we are grabbing\n",
    "\n",
    "    Returns\n",
    "    -------\n",
    "    cells :         The names of the cells\n",
    "    cell_weights :  The fractions of the cells\n",
    "    \"\"\"\n",
    "    if overlap_weighted:\n",
    "        cws = data.groupby(key)['overlap_weight'].sum()\n",
    "    else:\n",
    "        cws = data.groupby(key).size()\n",
    "\n",
    "    cells = cws.index.values.astype(int)\n",
    "    cws = cws / cws.sum()\n",
    "\n",
    "    cell_weights = cws.values\n",
    "    return cells, cell_weights\n",
    "\n",
    "\n",
    "def get_cell_weights_wide(data, overlap_weighted_pchat, cell_key='cell_wide', force_assignment=False, **kwargs):\n",
    "    \"\"\"Given data, get cell weights p(chat) and indices from wide SOM\n",
    "\n",
    "    Parameters\n",
    "    ----------\n",
    "    data             : Dataframe we extract parameters from\n",
    "    overlap_weighted_pchat : If True, use mean overlap weights of wide cells in p(chat)\n",
    "    cell_key         : Which key we are grabbing. Default: cell_wide\n",
    "    force_assignment : Calculate cell assignments. If False, then will use whatever value is in the cell_key field of data. Default: True\n",
    "\n",
    "    Returns\n",
    "    -------\n",
    "    cells        :  The names of the cells\n",
    "    cell_weights :  The fractions of the cells\n",
    "    \"\"\"\n",
    "    # if force_assignment:\n",
    "    #     data[cell_key] = self.assign_wide(data, **kwargs)\n",
    "    return get_cell_weights(data, overlap_weighted_pchat, cell_key)"
   ]
  },
  {
   "cell_type": "code",
   "execution_count": 14,
   "id": "0c4dc9bf-2d95-486a-b680-fe6eaaea9127",
   "metadata": {
    "tags": []
   },
   "outputs": [],
   "source": [
    "wide_data['overlap_weight'] = calculate_wide_overlap_weight(smooth_response_filename, \n",
    "                                                            wide_data['unsheared/snr'], \n",
    "                                                            wide_data['unsheared/size_ratio'], \n",
    "                                                            wide_data['unsheared/weight'])"
   ]
  },
  {
   "cell_type": "code",
   "execution_count": 15,
   "id": "eafcea61-f8f9-4f3e-9c38-f43340f3299a",
   "metadata": {
    "tags": []
   },
   "outputs": [
    {
     "data": {
      "text/html": [
       "<div>\n",
       "<style scoped>\n",
       "    .dataframe tbody tr th:only-of-type {\n",
       "        vertical-align: middle;\n",
       "    }\n",
       "\n",
       "    .dataframe tbody tr th {\n",
       "        vertical-align: top;\n",
       "    }\n",
       "\n",
       "    .dataframe thead th {\n",
       "        text-align: right;\n",
       "    }\n",
       "</style>\n",
       "<table border=\"1\" class=\"dataframe\">\n",
       "  <thead>\n",
       "    <tr style=\"text-align: right;\">\n",
       "      <th></th>\n",
       "      <th>cell_wide_unsheared</th>\n",
       "      <th>coadd_object_id</th>\n",
       "      <th>unsheared/flux_g</th>\n",
       "      <th>unsheared/flux_i</th>\n",
       "      <th>unsheared/flux_r</th>\n",
       "      <th>unsheared/flux_z</th>\n",
       "      <th>unsheared/snr</th>\n",
       "      <th>unsheared/size_ratio</th>\n",
       "      <th>unsheared/weight</th>\n",
       "      <th>overlap_weight</th>\n",
       "    </tr>\n",
       "  </thead>\n",
       "  <tbody>\n",
       "    <tr>\n",
       "      <th>0</th>\n",
       "      <td>485</td>\n",
       "      <td>3011243318</td>\n",
       "      <td>183.123596</td>\n",
       "      <td>349.691010</td>\n",
       "      <td>338.566803</td>\n",
       "      <td>684.489014</td>\n",
       "      <td>10.942565</td>\n",
       "      <td>0.629415</td>\n",
       "      <td>2.864772</td>\n",
       "      <td>0.637961</td>\n",
       "    </tr>\n",
       "    <tr>\n",
       "      <th>1</th>\n",
       "      <td>291</td>\n",
       "      <td>3011243324</td>\n",
       "      <td>77.518311</td>\n",
       "      <td>501.408905</td>\n",
       "      <td>299.974030</td>\n",
       "      <td>938.731018</td>\n",
       "      <td>12.771866</td>\n",
       "      <td>0.818861</td>\n",
       "      <td>2.891577</td>\n",
       "      <td>0.802751</td>\n",
       "    </tr>\n",
       "    <tr>\n",
       "      <th>2</th>\n",
       "      <td>255</td>\n",
       "      <td>3011243303</td>\n",
       "      <td>603.834717</td>\n",
       "      <td>2441.174561</td>\n",
       "      <td>1648.879395</td>\n",
       "      <td>2904.755371</td>\n",
       "      <td>60.417976</td>\n",
       "      <td>0.920065</td>\n",
       "      <td>2.937210</td>\n",
       "      <td>1.082601</td>\n",
       "    </tr>\n",
       "    <tr>\n",
       "      <th>3</th>\n",
       "      <td>137</td>\n",
       "      <td>3011243379</td>\n",
       "      <td>96.841751</td>\n",
       "      <td>998.797546</td>\n",
       "      <td>263.494446</td>\n",
       "      <td>2003.656982</td>\n",
       "      <td>18.126392</td>\n",
       "      <td>0.526232</td>\n",
       "      <td>2.910537</td>\n",
       "      <td>0.862867</td>\n",
       "    </tr>\n",
       "    <tr>\n",
       "      <th>4</th>\n",
       "      <td>253</td>\n",
       "      <td>3011243403</td>\n",
       "      <td>479.999756</td>\n",
       "      <td>2053.840576</td>\n",
       "      <td>1408.346069</td>\n",
       "      <td>2489.636963</td>\n",
       "      <td>46.809628</td>\n",
       "      <td>1.430249</td>\n",
       "      <td>2.936178</td>\n",
       "      <td>1.153675</td>\n",
       "    </tr>\n",
       "    <tr>\n",
       "      <th>...</th>\n",
       "      <td>...</td>\n",
       "      <td>...</td>\n",
       "      <td>...</td>\n",
       "      <td>...</td>\n",
       "      <td>...</td>\n",
       "      <td>...</td>\n",
       "      <td>...</td>\n",
       "      <td>...</td>\n",
       "      <td>...</td>\n",
       "      <td>...</td>\n",
       "    </tr>\n",
       "    <tr>\n",
       "      <th>150093686</th>\n",
       "      <td>727</td>\n",
       "      <td>1692934595</td>\n",
       "      <td>1008.386047</td>\n",
       "      <td>2629.930664</td>\n",
       "      <td>2131.592773</td>\n",
       "      <td>3503.870605</td>\n",
       "      <td>69.344582</td>\n",
       "      <td>1.195827</td>\n",
       "      <td>2.939262</td>\n",
       "      <td>1.117814</td>\n",
       "    </tr>\n",
       "    <tr>\n",
       "      <th>150093687</th>\n",
       "      <td>171</td>\n",
       "      <td>1692934650</td>\n",
       "      <td>107.185638</td>\n",
       "      <td>1160.128906</td>\n",
       "      <td>374.950562</td>\n",
       "      <td>1962.685791</td>\n",
       "      <td>23.315990</td>\n",
       "      <td>0.683746</td>\n",
       "      <td>2.921052</td>\n",
       "      <td>0.957567</td>\n",
       "    </tr>\n",
       "    <tr>\n",
       "      <th>150093688</th>\n",
       "      <td>592</td>\n",
       "      <td>1692934651</td>\n",
       "      <td>381.503082</td>\n",
       "      <td>1262.024658</td>\n",
       "      <td>802.661743</td>\n",
       "      <td>1124.253540</td>\n",
       "      <td>27.256226</td>\n",
       "      <td>0.656070</td>\n",
       "      <td>2.923368</td>\n",
       "      <td>0.991902</td>\n",
       "    </tr>\n",
       "    <tr>\n",
       "      <th>150093689</th>\n",
       "      <td>171</td>\n",
       "      <td>1692934648</td>\n",
       "      <td>93.381989</td>\n",
       "      <td>1100.065552</td>\n",
       "      <td>305.565643</td>\n",
       "      <td>1830.348267</td>\n",
       "      <td>21.712677</td>\n",
       "      <td>3.427138</td>\n",
       "      <td>2.932898</td>\n",
       "      <td>1.119423</td>\n",
       "    </tr>\n",
       "    <tr>\n",
       "      <th>150093690</th>\n",
       "      <td>268</td>\n",
       "      <td>1692934646</td>\n",
       "      <td>148.945541</td>\n",
       "      <td>1170.411499</td>\n",
       "      <td>474.522003</td>\n",
       "      <td>1943.568726</td>\n",
       "      <td>24.184885</td>\n",
       "      <td>1.295648</td>\n",
       "      <td>2.928993</td>\n",
       "      <td>1.091591</td>\n",
       "    </tr>\n",
       "  </tbody>\n",
       "</table>\n",
       "<p>150093691 rows × 10 columns</p>\n",
       "</div>"
      ],
      "text/plain": [
       "           cell_wide_unsheared  coadd_object_id  unsheared/flux_g  \\\n",
       "0                          485       3011243318        183.123596   \n",
       "1                          291       3011243324         77.518311   \n",
       "2                          255       3011243303        603.834717   \n",
       "3                          137       3011243379         96.841751   \n",
       "4                          253       3011243403        479.999756   \n",
       "...                        ...              ...               ...   \n",
       "150093686                  727       1692934595       1008.386047   \n",
       "150093687                  171       1692934650        107.185638   \n",
       "150093688                  592       1692934651        381.503082   \n",
       "150093689                  171       1692934648         93.381989   \n",
       "150093690                  268       1692934646        148.945541   \n",
       "\n",
       "           unsheared/flux_i  unsheared/flux_r  unsheared/flux_z  \\\n",
       "0                349.691010        338.566803        684.489014   \n",
       "1                501.408905        299.974030        938.731018   \n",
       "2               2441.174561       1648.879395       2904.755371   \n",
       "3                998.797546        263.494446       2003.656982   \n",
       "4               2053.840576       1408.346069       2489.636963   \n",
       "...                     ...               ...               ...   \n",
       "150093686       2629.930664       2131.592773       3503.870605   \n",
       "150093687       1160.128906        374.950562       1962.685791   \n",
       "150093688       1262.024658        802.661743       1124.253540   \n",
       "150093689       1100.065552        305.565643       1830.348267   \n",
       "150093690       1170.411499        474.522003       1943.568726   \n",
       "\n",
       "           unsheared/snr  unsheared/size_ratio  unsheared/weight  \\\n",
       "0              10.942565              0.629415          2.864772   \n",
       "1              12.771866              0.818861          2.891577   \n",
       "2              60.417976              0.920065          2.937210   \n",
       "3              18.126392              0.526232          2.910537   \n",
       "4              46.809628              1.430249          2.936178   \n",
       "...                  ...                   ...               ...   \n",
       "150093686      69.344582              1.195827          2.939262   \n",
       "150093687      23.315990              0.683746          2.921052   \n",
       "150093688      27.256226              0.656070          2.923368   \n",
       "150093689      21.712677              3.427138          2.932898   \n",
       "150093690      24.184885              1.295648          2.928993   \n",
       "\n",
       "           overlap_weight  \n",
       "0                0.637961  \n",
       "1                0.802751  \n",
       "2                1.082601  \n",
       "3                0.862867  \n",
       "4                1.153675  \n",
       "...                   ...  \n",
       "150093686        1.117814  \n",
       "150093687        0.957567  \n",
       "150093688        0.991902  \n",
       "150093689        1.119423  \n",
       "150093690        1.091591  \n",
       "\n",
       "[150093691 rows x 10 columns]"
      ]
     },
     "execution_count": 15,
     "metadata": {},
     "output_type": "execute_result"
    }
   ],
   "source": [
    "wide_data"
   ]
  },
  {
   "cell_type": "markdown",
   "id": "4bfd8396-4e89-4a0c-bcfb-766fe4aaa940",
   "metadata": {},
   "source": [
    "## Compute p(c | chat), p(z | c) and p(z | chat)"
   ]
  },
  {
   "cell_type": "code",
   "execution_count": 16,
   "id": "02e8b714-e27b-4abb-9f00-924b2dbccb0d",
   "metadata": {
    "tags": []
   },
   "outputs": [],
   "source": [
    "pcchat = calculate_pcchat(deep_som_size, \n",
    "                          wide_som_size,\n",
    "                          balrog_data['cell_deep'].values,\n",
    "                          balrog_data['cell_wide_unsheared'].values,       \n",
    "                          balrog_data['overlap_weight'].values)\n",
    "\n",
    "np.save(out_dir + '/' + 'pcchat.npy', pcchat)"
   ]
  },
  {
   "cell_type": "code",
   "execution_count": 17,
   "id": "5109d225-7903-49df-8489-fce8854d17ab",
   "metadata": {},
   "outputs": [],
   "source": [
    "all_deep_cells = np.arange(deep_som_size)\n",
    "\n",
    "pz_c = np.array(get_deep_histograms(wide_data,\n",
    "                                    spec_data,\n",
    "                                    key=key,\n",
    "                                    cells=all_deep_cells,\n",
    "                                    overlap_weighted_pzc=True,\n",
    "                                    bins=zbins))\n",
    "np.save(out_dir + '/' + 'pzc.npy', pz_c)"
   ]
  },
  {
   "cell_type": "code",
   "execution_count": 18,
   "id": "48a35add-91dc-47fa-9750-72cba2b8c033",
   "metadata": {},
   "outputs": [],
   "source": [
    "all_wide_cells = np.arange(wide_som_size)\n",
    "\n",
    "pz_chat = np.array(histogram(wide_data,\n",
    "                             spec_data,\n",
    "                             key=key,\n",
    "                             pcchat = pcchat,\n",
    "                             cells=all_wide_cells, \n",
    "                             cell_weights=np.ones(len(all_wide_cells)), \n",
    "                             overlap_weighted_pzc=True,\n",
    "                             bins=zbins, \n",
    "                             individual_chat=True))\n",
    "\n",
    "np.save(out_dir + '/' + 'pzchat.npy', pz_chat)"
   ]
  },
  {
   "cell_type": "markdown",
   "id": "a3b633cc-a68d-4b9b-94d1-bced66840c69",
   "metadata": {},
   "source": [
    "## Compute N(z)s "
   ]
  },
  {
   "cell_type": "code",
   "execution_count": 19,
   "id": "c282c1da-d818-4060-a7b5-6e2eff9c89fa",
   "metadata": {
    "tags": []
   },
   "outputs": [],
   "source": [
    "# data into bins\n",
    "\n",
    "tomo_bins_wide_dict = bin_assignment_spec(spec_data,\n",
    "                                          deep_som_size,\n",
    "                                          wide_som_size,\n",
    "                                          bin_edges = bin_edges)\n",
    "\n",
    "# tomo_bins_wide = tomo_bins_wide_2d(tomo_bins_wide_dict)"
   ]
  },
  {
   "cell_type": "code",
   "execution_count": 20,
   "id": "48691605-3deb-41c1-878d-7d0cf6ce9ea8",
   "metadata": {
    "tags": []
   },
   "outputs": [
    {
     "name": "stdout",
     "output_type": "stream",
     "text": [
      "{'bin0': 37687150, 'bin1': 37220369, 'bin2': 37766153, 'bin3': 37420019}\n"
     ]
    }
   ],
   "source": [
    "# bin occupation info\n",
    "\n",
    "cell_occupation_info = wide_data.groupby('cell_wide_unsheared')['cell_wide_unsheared'].count()\n",
    "bin_occupation_info = {'bin' + str(i) : np.sum(cell_occupation_info.loc[tomo_bins_wide_dict[i]].values) for i in range(n_bins)}\n",
    "print(bin_occupation_info)"
   ]
  },
  {
   "cell_type": "code",
   "execution_count": 21,
   "id": "3f0d447b-0af2-42ad-bd4d-3aa87c013340",
   "metadata": {
    "tags": []
   },
   "outputs": [],
   "source": [
    "# convert to format where tomo_bins_wide[i] is a 2D array, first column cell_id, second column an arbitrary weight\n",
    "tomo_bins_wide = tomo_bins_wide_2d(tomo_bins_wide_dict)"
   ]
  },
  {
   "cell_type": "code",
   "execution_count": null,
   "id": "945e3bb8-82ac-46c9-9b26-9b334bb35339",
   "metadata": {
    "tags": []
   },
   "outputs": [],
   "source": [
    "# NOT_BIN_CONDITIONALIZED\n",
    "\n",
    "hists_wide = redshift_distributions_wide(data = wide_data,\n",
    "                                         deep_data = spec_data,\n",
    "                                         overlap_weighted_pchat = True, \n",
    "                                         overlap_weighted_pzc = True, \n",
    "                                         bins = zbins,\n",
    "                                         pcchat = pcchat,\n",
    "                                         tomo_bins = tomo_bins_wide,\n",
    "                                         key = key,\n",
    "                                         force_assignment = False,\n",
    "                                         cell_key = 'cell_wide_unsheared')\n",
    "\n",
    "np.save(out_dir + '/' + 'hists_wide_NOT_BIN_CONDITIONALIZED_{}.npy'.format(keylabel), hists_wide)\n",
    "plot_nz(hists_wide, zbins, out_dir + '/' + 'nz_newbinning_onwide_NOT_BIN_CONDITIONALIZED_{}.png'.format(keylabel))"
   ]
  },
  {
   "cell_type": "code",
   "execution_count": null,
   "id": "d2ef8333-c5a3-458a-be70-cf09687f8aed",
   "metadata": {},
   "outputs": [],
   "source": [
    "# bin conditionalized n(z)\n",
    "\n",
    "hists_wide_bin_cond = np.array([nz_bin_conditioned(wide_data, \n",
    "                                                   spec_data, \n",
    "                                                   overlap_weighted_pchat= True, \n",
    "                                                   overlap_weighted_pzc=True, \n",
    "                                                   tomo_cells=tomo_bins_wide[i], \n",
    "                                                   zbins=zbins, \n",
    "                                                   pcchat = pcchat, \n",
    "                                                   cell_wide_key='cell_wide_unsheared', \n",
    "                                                   zkey=key) for i in range(n_bins)])\n",
    "\n",
    "np.save(out_dir + '/' + 'hists_wide_bin_conditionalized_{}.npy'.format(keylabel), hists_wide_bin_cond)\n",
    "plot_nz(hists_wide_bin_cond, zbins, out_dir + '/' + 'nz_newbinning_onwide_bin_cond_{}.png'.format(keylabel))\n",
    "plot_nz_overlap([hists_wide_bin_cond], [keylabel], out_dir + '/')"
   ]
  },
  {
   "cell_type": "markdown",
   "id": "1e781fba-b744-4f50-b231-dabe4d9c95f0",
   "metadata": {},
   "source": [
    "## Pile up very high z"
   ]
  },
  {
   "cell_type": "code",
   "execution_count": null,
   "id": "3f823e7f-0e4a-4cad-9f71-b59dcefb82af",
   "metadata": {},
   "outputs": [],
   "source": [
    "zbins_piled, zmean_piled, hists_wide_bin_cond_piled = pileup(hists_wide_bin_cond,\n",
    "                                                             zbins,\n",
    "                                                             zmean,\n",
    "                                                             zmax_pileup,\n",
    "                                                             zbins_dz,\n",
    "                                                             zmax_weight,\n",
    "                                                             n_bins)\n",
    "\n",
    "means_bc_piled, sigmas_bc_piled = get_mean_sigma(zmean_piled, hists_wide_bin_cond_piled)\n",
    "\n",
    "np.save(out_dir + '/' + 'hists_wide_bin_conditionalized_pileup3_{}.npy'.format(keylabel), hists_wide_bin_cond_piled)\n",
    "plot_nz(hists_wide_bin_cond_piled, zbins_piled, out_dir + '/' + 'nz_newbinning_onwide_bincond_pilledup_{}.png'.format(keylabel))\n",
    "\n",
    "\n",
    "save_des_nz(hists_wide_bin_cond_piled,\n",
    "            zbins_piled,\n",
    "            n_bins,\n",
    "            out_dir + '/',\n",
    "            run_name,\n",
    "            keylabel +'_bincond_pileup3') ##THIS IS THE NZ WE USE"
   ]
  },
  {
   "cell_type": "markdown",
   "id": "1e9237cc-c7af-4d5e-b7fd-8a137581f1a6",
   "metadata": {},
   "source": [
    "## Smooth"
   ]
  },
  {
   "cell_type": "code",
   "execution_count": null,
   "id": "8afaa7e1-2eb1-4bce-9b31-752f57e88af6",
   "metadata": {},
   "outputs": [],
   "source": [
    "# write nzs into an existing 2pts fits file \n",
    "\n",
    "template_fits='/global/cfs/projectdirs/des/acampos/cosmosis/cosmosis-des-library/y3-3x2pt-final/data/des-y3/2pt_NG_final_2ptunblind_02_24_21_wnz_covupdate.v2.fits'\n",
    "file_nzs = out_dir + '/' + f'redshift_distributions_{run_name}_modal_even_bincond_pileup3.fits'\n",
    "out_file_non_smooth = out_dir + '/' + f'2pt_{keylabel}_{run_name}_non_smooth.fits'\n",
    "\n",
    "to2point(out_file_non_smooth,\n",
    "         file_nzs,\n",
    "         template_fits,\n",
    "         run_name,\n",
    "         keylabel,\n",
    "         out_dir)"
   ]
  },
  {
   "cell_type": "code",
   "execution_count": null,
   "id": "fafe9b8f-12b2-4848-a372-8e3d07563bd1",
   "metadata": {},
   "outputs": [],
   "source": [
    "# Smooth \n",
    "\n",
    "file_nzs_smooth = out_dir + '/' + f'redshift_distributions_{keylabel}_{run_name}_bincond_pileup3_smooth.txt'\n",
    "out_file_smooth = out_dir + '/' + f'2pt_{keylabel}_{run_name}_smooth.fits'\n",
    "\n",
    "smooth(out_file_smooth,\n",
    "       out_file_non_smooth,\n",
    "       file_nzs_smooth,\n",
    "       run_name,\n",
    "       keylabel,\n",
    "       out_dir + '/',\n",
    "       hists_wide_bin_cond_piled)\n",
    "\n",
    "#END smooth"
   ]
  },
  {
   "cell_type": "markdown",
   "id": "21e24d81-db98-40f5-8929-7ab16a767f1e",
   "metadata": {},
   "source": [
    "## Generate h5 file"
   ]
  },
  {
   "cell_type": "code",
   "execution_count": null,
   "id": "27a9f437-2f60-4ea9-9f74-b07dab387553",
   "metadata": {},
   "outputs": [],
   "source": [
    "# convert to DF with cell <-> bin relation\n",
    "tmp_cells = np.concatenate([tomo_bins_wide[nbin][:,0] for nbin in tomo_bins_wide])\n",
    "tmp_bins = np.concatenate([(np.ones(len(tomo_bins_wide[nbin][:,0])) * nbin).astype(int) for \n",
    "                           nbin in tomo_bins_wide])\n",
    "tomo_bin_hashtable = pd.Series(tmp_bins, tmp_cells)\n",
    "\n",
    "nrows = wide_data['coadd_object_id'].shape[0]"
   ]
  },
  {
   "cell_type": "code",
   "execution_count": null,
   "id": "14418c4f-3202-4a9d-8da5-24a2357b0108",
   "metadata": {},
   "outputs": [],
   "source": [
    "f = h5py.File(out_dir + '/' + 'sompz_test.hdf5','w', track_order=True)"
   ]
  },
  {
   "cell_type": "code",
   "execution_count": null,
   "id": "2d748696-a8dd-45d8-b3d1-a551bc44d1d7",
   "metadata": {},
   "outputs": [],
   "source": [
    "# fluxtypes = ['unsheared', 'sheared_1m', 'sheared_1p', 'sheared_2m', 'sheared_2p']\n",
    "fluxtypes = ['unsheared']\n",
    "\n",
    "# add binning info to catalog\n",
    "for fluxtype in fluxtypes:\n",
    "    if fluxtype == 'unsheared':\n",
    "        f.create_dataset('catalog/sompz/unsheared/coadd_object_id', data = wide_data['coadd_object_id'])\n",
    "    \n",
    "    print('add binning {}'.format(fluxtype))\n",
    "    try:\n",
    "        f.create_dataset(f'catalog/sompz/{fluxtype}/bhat', \n",
    "                         maxshape=(nrows,),\n",
    "                         shape=(nrows,), dtype='i8')\n",
    "        print(\"that worked!\")\n",
    "    except Exception as e:\n",
    "        print(e)\n",
    "    tmp = wide_data['cell_wide_{}'.format(fluxtype)].map(tomo_bin_hashtable)\n",
    "    tmp[np.isnan(tmp)] = -1\n",
    "    f['catalog/sompz/{}/bhat'.format(fluxtype)][...] = tmp\n",
    "    f.create_dataset(f'catalog/sompz/{fluxtype}/cell_wide', data = wide_data[f'cell_wide_{fluxtype}'])\n",
    "    \n"
   ]
  },
  {
   "cell_type": "code",
   "execution_count": null,
   "id": "ec3cd0bc-fd2f-4abf-97f7-1777ab5a5759",
   "metadata": {},
   "outputs": [],
   "source": [
    "f.create_dataset('catalog/sompz/pzdata/pz_c', data = pz_c)\n",
    "print(f['catalog/sompz/pzdata/pz_c'][...].shape)"
   ]
  },
  {
   "cell_type": "code",
   "execution_count": null,
   "id": "9609d4e2-b7d9-40a8-81f4-809cfbe95545",
   "metadata": {},
   "outputs": [],
   "source": [
    "f.create_dataset('catalog/sompz/pzdata/pz_chat', data = pz_chat)\n",
    "print(f['catalog/sompz/pzdata/pz_chat'][...].shape)"
   ]
  },
  {
   "cell_type": "code",
   "execution_count": null,
   "id": "3a881306-c2ce-4e63-aa82-a10c37120cfc",
   "metadata": {},
   "outputs": [],
   "source": [
    "nz = fitsio.read(out_dir + '/' + 'redshift_distributions_y6_test_v2_modal_even_bincond_pileup3.fits')"
   ]
  },
  {
   "cell_type": "code",
   "execution_count": null,
   "id": "7ff915b9-2cb5-4139-82b1-f1ebff0212c7",
   "metadata": {},
   "outputs": [],
   "source": [
    "f.create_dataset('catalog/sompz/pzdata/bin0',  data = nz['BIN1'])\n",
    "f.create_dataset('catalog/sompz/pzdata/bin1',  data = nz['BIN2'])\n",
    "f.create_dataset('catalog/sompz/pzdata/bin2',  data = nz['BIN3'])\n",
    "f.create_dataset('catalog/sompz/pzdata/bin3',  data = nz['BIN4'])\n",
    "f.create_dataset('catalog/sompz/pzdata/zhigh', data = nz['Z_HIGH'])\n",
    "f.create_dataset('catalog/sompz/pzdata/zlow',  data = nz['Z_LOW'])"
   ]
  },
  {
   "cell_type": "code",
   "execution_count": null,
   "id": "53b4ad3d-73c3-48a6-ae79-7a9105f14695",
   "metadata": {},
   "outputs": [],
   "source": [
    "f.close()"
   ]
  },
  {
   "cell_type": "code",
   "execution_count": null,
   "id": "25707bde-c0d0-48f8-a3ed-175cee14236f",
   "metadata": {},
   "outputs": [],
   "source": [
    "end = time.time()\n",
    "print(end - start)"
   ]
  },
  {
   "cell_type": "code",
   "execution_count": null,
   "id": "bab56234-efb5-404d-8e56-a6ead4862f9b",
   "metadata": {},
   "outputs": [],
   "source": []
  },
  {
   "cell_type": "code",
   "execution_count": null,
   "id": "cbd3dcbc-711c-4cd9-b88a-046d43c68fae",
   "metadata": {},
   "outputs": [],
   "source": []
  }
 ],
 "metadata": {
  "kernelspec": {
   "display_name": "SOMPZ",
   "language": "python",
   "name": "sompz"
  },
  "language_info": {
   "codemirror_mode": {
    "name": "ipython",
    "version": 3
   },
   "file_extension": ".py",
   "mimetype": "text/x-python",
   "name": "python",
   "nbconvert_exporter": "python",
   "pygments_lexer": "ipython3",
   "version": "3.10.9"
  }
 },
 "nbformat": 4,
 "nbformat_minor": 5
}
