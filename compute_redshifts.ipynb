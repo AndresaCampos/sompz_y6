{
 "cells": [
  {
   "cell_type": "code",
   "execution_count": 1,
   "id": "464e580a-6c06-4f77-aa7b-b2dee3e5542e",
   "metadata": {},
   "outputs": [],
   "source": [
    "from sompz.functions_sompz import *\n",
    "from sompz.functions_WL_Y3 import *\n",
    "import numpy as np\n",
    "import pandas as pd\n",
    "import matplotlib.pyplot as plt\n",
    "import pickle\n",
    "import h5py"
   ]
  },
  {
   "cell_type": "markdown",
   "id": "252ace17-443d-41dc-a379-d652c4868a63",
   "metadata": {},
   "source": [
    "## Files and global variables"
   ]
  },
  {
   "cell_type": "code",
   "execution_count": 2,
   "id": "32d0cfb5-029d-4312-a74c-e8ae15ff1007",
   "metadata": {},
   "outputs": [],
   "source": [
    "deep_som_size = 64*64 \n",
    "wide_som_size = 32*32\n",
    "\n",
    "n_bins = 4\n",
    "bin_edges =  [0.0, 0.358, 0.631, 0.872, 2.0] \n",
    "\n",
    "data_dir = './output_y3data/'\n",
    "run_name = 'SOMF'\n",
    "\n",
    "balrog_file = '/global/cscratch1/sd/acampos/sompz_data/v0.50_andresa/deep_balrog.pkl'\n",
    "deep_cells_assignment_balrog_file = '/global/cscratch1/sd/acampos/sompz/test/full_run_on_data/SOM/cats_Y3/cells_deep_balrog_newSOM_y3.txt'\n",
    "wide_cells_assignment_balrog_file = '/global/cscratch1/sd/acampos/sompz/test/full_run_on_data/SOM/cats_Y3/cells_wide_balrog_SOMF_230117.txt'\n",
    "\n",
    "smooth_response_filename = '/global/u1/d/dgruen/work/sompz/test/full_run_on_data/y3_shape_response_grid_03_31_20.txt'\n",
    "\n",
    "cosmos_file = '/global/cscratch1/sd/jmyles/COSMOS2015/sompz_cosmos.h5'\n",
    "\n",
    "wide_field_file = '/global/cscratch1/sd/acampos/sompz_data/Y3_mastercat_03_31_20.h5'\n",
    "wide_cells_assignment_file = '/global/cscratch1/sd/acampos/sompz/test/full_run_on_data/SOM/cats_Y3/cells_wide_assignment_all.csv'"
   ]
  },
  {
   "cell_type": "code",
   "execution_count": 3,
   "id": "0968293e-cf0b-4f5d-979c-00ad20c32744",
   "metadata": {},
   "outputs": [],
   "source": [
    "# settings for output histogram - note that zbins_max needs to agree with Laigle currently\n",
    "zbins_max = 6.00\n",
    "zbins_dz  = 0.01\n",
    "\n",
    "# all z-bins above zmax_pileup will be piled into this last bin\n",
    "# Can up or downweight the last bin\n",
    "zmax_pileup = 3.0\n",
    "zmax_weight = 1.0"
   ]
  },
  {
   "cell_type": "code",
   "execution_count": 4,
   "id": "d1e37b7e-fe9e-4e8b-b131-217bd7ef8bfe",
   "metadata": {},
   "outputs": [],
   "source": [
    "zbins  = np.arange(-zbins_dz/2.,zbins_max+zbins_dz,zbins_dz) # need to match Laigle binning if in 'usepz' mode\n",
    "zmean  = (zbins[1:] + zbins[:-1])/2\n",
    "fullpz = [\"Z{:.2f}\".format(s).replace(\".\",\"_\") for s in np.arange(0,6.01,0.01)] # stays hardcoded while we use Laigle catalog as only truth"
   ]
  },
  {
   "cell_type": "code",
   "execution_count": 5,
   "id": "ac980f0a-c104-40ee-9315-83e8789690a8",
   "metadata": {},
   "outputs": [],
   "source": [
    "key      = fullpz\n",
    "pointz   = 'Z'\n",
    "keylabel = 'modal_even'"
   ]
  },
  {
   "cell_type": "markdown",
   "id": "4bb93aa0-4681-43e0-bda6-bce6a173c83a",
   "metadata": {},
   "source": [
    "## Load cell assignment into dataframes for each dataset and calculate weights"
   ]
  },
  {
   "cell_type": "code",
   "execution_count": 6,
   "id": "b9c37c58-6c90-45b6-b8d5-a07ea5f86d8c",
   "metadata": {},
   "outputs": [
    {
     "name": "stdout",
     "output_type": "stream",
     "text": [
      "Length of balrog_data: 2417437\n"
     ]
    }
   ],
   "source": [
    "balrog_data = build_balrog_df(balrog_file, \n",
    "                    deep_cells_assignment_balrog_file, \n",
    "                    wide_cells_assignment_balrog_file)\n",
    "\n",
    "balrog_data['overlap_weight'] = calculate_weights(smooth_response_filename, \n",
    "                                   balrog_data['unsheared/snr'], \n",
    "                                   balrog_data['unsheared/size_ratio'], \n",
    "                                   balrog_data[\"injection_counts\"], \n",
    "                                   balrog_data['unsheared/weight'], \n",
    "                                   len(balrog_data))"
   ]
  },
  {
   "cell_type": "code",
   "execution_count": 7,
   "id": "53170328-7ddf-4903-ba90-7722eca65108",
   "metadata": {},
   "outputs": [
    {
     "name": "stderr",
     "output_type": "stream",
     "text": [
      "/global/homes/a/acampos/.conda/envs/mySOM/lib/python3.9/site-packages/pandas/core/frame.py:3636: PerformanceWarning: DataFrame is highly fragmented.  This is usually the result of calling `frame.insert` many times, which has poor performance.  Consider using pd.concat instead.  To get a de-fragmented frame, use `newframe = frame.copy()`\n",
      "  self[k1] = value[k2]\n",
      "/global/homes/a/acampos/.conda/envs/mySOM/lib/python3.9/site-packages/pandas/core/indexing.py:1678: PerformanceWarning: DataFrame is highly fragmented.  This is usually the result of calling `frame.insert` many times, which has poor performance.  Consider using pd.concat instead.  To get a de-fragmented frame, use `newframe = frame.copy()`\n",
      "  self.obj[key] = empty_value\n"
     ]
    },
    {
     "name": "stdout",
     "output_type": "stream",
     "text": [
      "n duplicated Laigle 39399\n",
      "all cosmos deep:  521851\n",
      "matched cosmos deep:  451766\n",
      "unmatched cosmos deep:  70085\n"
     ]
    }
   ],
   "source": [
    "spec_data = build_spec_df(cosmos_file, balrog_data)"
   ]
  },
  {
   "cell_type": "code",
   "execution_count": 8,
   "id": "43174ca4-2de6-418d-96ec-680e9ced8f94",
   "metadata": {},
   "outputs": [
    {
     "name": "stderr",
     "output_type": "stream",
     "text": [
      "/global/homes/a/acampos/.conda/envs/mySOM/lib/python3.9/site-packages/numpy/lib/arraysetops.py:583: FutureWarning: elementwise comparison failed; returning scalar instead, but in the future will perform elementwise comparison\n",
      "  mask |= (ar1 == a)\n"
     ]
    },
    {
     "name": "stdout",
     "output_type": "stream",
     "text": [
      "read select metacal done\n",
      "read coadd_object_id done\n",
      "read unsheared/T done\n",
      "read unsheared/snr done\n",
      "read unsheared/R11 done\n",
      "read unsheared/R22 done\n",
      "read unsheared/wight done\n"
     ]
    }
   ],
   "source": [
    "wide_data_assignment = pd.read_csv(wide_cells_assignment_file, index_col = 0, dtype =np.int32)\n",
    "\n",
    "wide_data = build_wide_df(wide_field_file, wide_data_assignment)  \n",
    "\n",
    "wide_data['overlap_weight'] = calculate_wide_overlap_weight(wide_data['unsheared/R11'], \n",
    "                                                    wide_data['unsheared/R22'], \n",
    "                                                    wide_data['unsheared/weight'])"
   ]
  },
  {
   "cell_type": "markdown",
   "id": "4bfd8396-4e89-4a0c-bcfb-766fe4aaa940",
   "metadata": {},
   "source": [
    "## Compute p(chat), p(c | chat), p(z | c) and p(z | chat)"
   ]
  },
  {
   "cell_type": "code",
   "execution_count": 9,
   "id": "fe61e674-00b6-496d-84d9-8596f4fc5b4d",
   "metadata": {},
   "outputs": [],
   "source": [
    "cells, cell_weights_wide = get_cell_weights_wide(wide_data, \n",
    "                                                 overlap_weighted_pchat=True, \n",
    "                                                 force_assignment=False, \n",
    "                                                 cell_key='cell_wide_unsheared')\n",
    "\n",
    "np.save(data_dir + 'pchat.npy', cell_weights_wide)"
   ]
  },
  {
   "cell_type": "code",
   "execution_count": 10,
   "id": "02e8b714-e27b-4abb-9f00-924b2dbccb0d",
   "metadata": {},
   "outputs": [
    {
     "name": "stderr",
     "output_type": "stream",
     "text": [
      "/global/homes/a/acampos/.conda/envs/mySOM/lib/python3.9/site-packages/pandas/core/arraylike.py:364: FutureWarning: Using a non-tuple sequence for multidimensional indexing is deprecated; use `arr[tuple(seq)]` instead of `arr[seq]`. In the future this will be interpreted as an array index, `arr[np.array(seq)]`, which will result either in an error or a different result.\n",
      "  result = getattr(ufunc, method)(*inputs, **kwargs)\n"
     ]
    }
   ],
   "source": [
    "pcchat = calculate_pcchat(deep_som_size, \n",
    "                          wide_som_size,\n",
    "                          balrog_data['cell_deep'],\n",
    "                          balrog_data['cell_wide_unsheared'], \n",
    "                          balrog_data['overlap_weight'])\n",
    "\n",
    "np.save(data_dir + 'pcchat.npy', pcchat)"
   ]
  },
  {
   "cell_type": "code",
   "execution_count": 11,
   "id": "5109d225-7903-49df-8489-fce8854d17ab",
   "metadata": {},
   "outputs": [],
   "source": [
    "all_deep_cells = np.arange(deep_som_size)\n",
    "\n",
    "pz_c = np.array(get_deep_histograms(wide_data,\n",
    "                                    spec_data,\n",
    "                                    key=key,\n",
    "                                    cells=all_deep_cells,\n",
    "                                    overlap_weighted_pzc=True,\n",
    "                                    bins=zbins))\n",
    "np.save(data_dir + 'pzc.npy', pz_c)"
   ]
  },
  {
   "cell_type": "code",
   "execution_count": 12,
   "id": "48a35add-91dc-47fa-9750-72cba2b8c033",
   "metadata": {},
   "outputs": [],
   "source": [
    "all_wide_cells = np.arange(wide_som_size)\n",
    "\n",
    "pz_chat = np.array(histogram(wide_data,\n",
    "                             spec_data,\n",
    "                             key=key,\n",
    "                             pcchat = pcchat,\n",
    "                             cells=all_wide_cells, \n",
    "                             cell_weights=np.ones(len(all_wide_cells)), \n",
    "                             overlap_weighted_pzc=True,\n",
    "                             bins=zbins, \n",
    "                             individual_chat=True))\n",
    "\n",
    "np.save(data_dir + 'pzchat.npy', pz_chat)"
   ]
  },
  {
   "cell_type": "markdown",
   "id": "a3b633cc-a68d-4b9b-94d1-bced66840c69",
   "metadata": {},
   "source": [
    "## Compute N(z)s "
   ]
  },
  {
   "cell_type": "code",
   "execution_count": 15,
   "id": "c282c1da-d818-4060-a7b5-6e2eff9c89fa",
   "metadata": {},
   "outputs": [],
   "source": [
    "# redshift data into bins\n",
    "\n",
    "tomo_bins_wide_dict = bin_assignment_spec(spec_data,\n",
    "                                          deep_som_size,\n",
    "                                          wide_som_size,\n",
    "                                          inj_counts = balrog_data['injection_counts'],\n",
    "                                          inj_ids = balrog_data['true_id'],\n",
    "                                          bin_edges = bin_edges)\n",
    "\n",
    "# convert to format where tomo_bins_wide[i] is a 2D array, first column cell_id, second column an arbitrary weight\n",
    "# tomo_bins_wide = tomo_bins_wide_2d(tomo_bins_wide_dict)"
   ]
  },
  {
   "cell_type": "code",
   "execution_count": 16,
   "id": "48691605-3deb-41c1-878d-7d0cf6ce9ea8",
   "metadata": {},
   "outputs": [
    {
     "name": "stdout",
     "output_type": "stream",
     "text": [
      "{'bin0': 23580877, 'bin1': 27236473, 'bin2': 24773059, 'bin3': 24618535}\n"
     ]
    }
   ],
   "source": [
    "# wide data bin occupation\n",
    "\n",
    "cell_occupation_info = wide_data.groupby('cell_wide_unsheared')['cell_wide_unsheared'].count()\n",
    "# pickle.dump(cell_occupation_info, open('cell_occupation_info_wide_som_SOMF_230117.pkl', 'wb'))\n",
    "\n",
    "bin_occupation_info = {'bin' + str(i) : np.sum(cell_occupation_info.loc[tomo_bins_wide_dict[i]].values) for i in range(n_bins)}\n",
    "print(bin_occupation_info)"
   ]
  },
  {
   "cell_type": "code",
   "execution_count": 17,
   "id": "3f0d447b-0af2-42ad-bd4d-3aa87c013340",
   "metadata": {},
   "outputs": [],
   "source": [
    "tomo_bins_wide = tomo_bins_wide_2d(tomo_bins_wide_dict)"
   ]
  },
  {
   "cell_type": "code",
   "execution_count": 18,
   "id": "945e3bb8-82ac-46c9-9b26-9b334bb35339",
   "metadata": {},
   "outputs": [],
   "source": [
    "# NOT_BIN_CONDITIONALIZED\n",
    "\n",
    "hists_wide = redshift_distributions_wide(data = wide_data,\n",
    "                                         deep_data = spec_data,\n",
    "                                         overlap_weighted_pchat = True, \n",
    "                                         overlap_weighted_pzc = True, \n",
    "                                         bins = zbins,\n",
    "                                         pcchat = pcchat,\n",
    "                                         tomo_bins = tomo_bins_wide,\n",
    "                                         key = key,\n",
    "                                         force_assignment = False,\n",
    "                                         cell_key = 'cell_wide_unsheared')\n",
    "\n",
    "np.save(data_dir+'Y3_hists_wide_NOT_BIN_CONDITIONALIZED_{}.npy'.format(keylabel), hists_wide)\n",
    "plot_nz(hists_wide, zbins, data_dir+'Y3_nz_newbinning_onwide_NOT_BIN_CONDITIONALIZED_{}.png'.format(keylabel))"
   ]
  },
  {
   "cell_type": "code",
   "execution_count": 19,
   "id": "d2ef8333-c5a3-458a-be70-cf09687f8aed",
   "metadata": {},
   "outputs": [
    {
     "name": "stdout",
     "output_type": "stream",
     "text": [
      "full redshift sample: 451766\n",
      "subset of redshift sample in bin: 104053\n",
      "full redshift sample: 451766\n",
      "subset of redshift sample in bin: 122062\n",
      "full redshift sample: 451766\n",
      "subset of redshift sample in bin: 115420\n",
      "full redshift sample: 451766\n",
      "subset of redshift sample in bin: 110231\n"
     ]
    },
    {
     "name": "stderr",
     "output_type": "stream",
     "text": [
      "No handles with labels found to put in legend.\n"
     ]
    }
   ],
   "source": [
    "# bin conditionalized n(z)\n",
    "\n",
    "hists_wide_bin_cond = np.array([nz_bin_conditioned(wide_data, \n",
    "                                                   spec_data, \n",
    "                                                   overlap_weighted_pchat= True, \n",
    "                                                   overlap_weighted_pzc=True, \n",
    "                                                   tomo_cells=tomo_bins_wide[i], \n",
    "                                                   zbins=zbins, \n",
    "                                                   pcchat = pcchat, \n",
    "                                                   cell_wide_key='cell_wide_unsheared', \n",
    "                                                   zkey=key) for i in range(n_bins)])\n",
    "\n",
    "np.save(data_dir + 'Y3_hists_wide_bin_conditionalized_{}.npy'.format(keylabel), hists_wide_bin_cond)\n",
    "plot_nz(hists_wide_bin_cond, zbins, data_dir + 'Y3_nz_newbinning_onwide_bin_cond_{}.png'.format(keylabel))\n",
    "plot_nz_overlap([hists_wide_bin_cond], [keylabel], data_dir)"
   ]
  },
  {
   "cell_type": "markdown",
   "id": "1e781fba-b744-4f50-b231-dabe4d9c95f0",
   "metadata": {},
   "source": [
    "## Pile up very high z"
   ]
  },
  {
   "cell_type": "code",
   "execution_count": 20,
   "id": "3f823e7f-0e4a-4cad-9f71-b59dcefb82af",
   "metadata": {},
   "outputs": [
    {
     "name": "stdout",
     "output_type": "stream",
     "text": [
      "Dz, new-end-z,weight:  0.01 3.0 1.0\n",
      "mkdir -p ./output_y3data/\n",
      "write ./output_y3data/Y3_y3_redshift_distributions_SOMF_modal_even_Y3_bincond_pileup3.fits\n"
     ]
    }
   ],
   "source": [
    "zbins_piled, zmean_piled, hists_wide_bin_cond_piled = pileup(hists_wide_bin_cond,\n",
    "                                                             zbins,\n",
    "                                                             zmean,\n",
    "                                                             zmax_pileup,\n",
    "                                                             zbins_dz,\n",
    "                                                             zmax_weight,\n",
    "                                                             n_bins)\n",
    "\n",
    "means_bc_piled, sigmas_bc_piled = get_mean_sigma(zmean_piled, hists_wide_bin_cond_piled)\n",
    "\n",
    "np.save(data_dir + 'Y3_hists_wide_bin_conditionalized_pileup3_{}.npy'.format(keylabel), hists_wide_bin_cond_piled)\n",
    "plot_nz(hists_wide_bin_cond_piled, zbins_piled, data_dir+'Y3_nz_newbinning_onwide_bincond_pilledup_{}.png'.format(keylabel))\n",
    "\n",
    "\n",
    "save_des_nz(hists_wide_bin_cond_piled, \n",
    "            zbins_piled, \n",
    "            n_bins, \n",
    "            data_dir, \n",
    "            run_name, \n",
    "            keylabel+'_Y3_bincond_pileup3') ##THIS IS THE NZ WE USE"
   ]
  },
  {
   "cell_type": "markdown",
   "id": "1e9237cc-c7af-4d5e-b7fd-8a137581f1a6",
   "metadata": {},
   "source": [
    "## Smooth"
   ]
  },
  {
   "cell_type": "code",
   "execution_count": 23,
   "id": "8afaa7e1-2eb1-4bce-9b31-752f57e88af6",
   "metadata": {},
   "outputs": [],
   "source": [
    "# write nzs into an existing 2pts fits file \n",
    "\n",
    "template_fits='/global/cscratch1/sd/acampos/cosmosis/cosmosis-des-library/y3-3x2pt/data/des-y3/sim_data_vectors/sim_3x2pt_TATT_sample3.fits'\n",
    "file_nzs = data_dir+f'Y3_y3_redshift_distributions_{run_name}_modal_even_Y3_bincond_pileup3.fits'\n",
    "out_file_non_smooth = data_dir + f'Y3_2pt_{keylabel}_{run_name}_non_smooth.fits'\n",
    "\n",
    "to2point(out_file_non_smooth,\n",
    "         file_nzs,\n",
    "         template_fits,\n",
    "         run_name,\n",
    "         keylabel,\n",
    "         data_dir)"
   ]
  },
  {
   "cell_type": "code",
   "execution_count": 24,
   "id": "fafe9b8f-12b2-4848-a372-8e3d07563bd1",
   "metadata": {},
   "outputs": [],
   "source": [
    "####################\n",
    "# Smooth (is this just for plotting?)\n",
    "\n",
    "\n",
    "file_nzs_smooth = data_dir + f'Y3_y3_redshift_distributions_{keylabel}_{run_name}_bincond_pileup3_smooth.txt'\n",
    "out_file_smooth = data_dir + f'Y3_2pt_{keylabel}_{run_name}_smooth.fits'\n",
    "\n",
    "smooth(out_file_smooth,\n",
    "       out_file_non_smooth,\n",
    "       file_nzs_smooth,\n",
    "       run_name,\n",
    "       keylabel,\n",
    "       data_dir,\n",
    "       hists_wide_bin_cond_piled)\n",
    "\n",
    "#END smooth"
   ]
  },
  {
   "cell_type": "markdown",
   "id": "21e24d81-db98-40f5-8929-7ab16a767f1e",
   "metadata": {},
   "source": [
    "## Generate h5 file"
   ]
  },
  {
   "cell_type": "code",
   "execution_count": 26,
   "id": "27a9f437-2f60-4ea9-9f74-b07dab387553",
   "metadata": {},
   "outputs": [],
   "source": [
    "# convert to DF with cell <-> bin relation\n",
    "tmp_cells = np.concatenate([tomo_bins_wide[nbin][:,0] for nbin in tomo_bins_wide])\n",
    "tmp_bins = np.concatenate([(np.ones(len(tomo_bins_wide[nbin][:,0])) * nbin).astype(int) for \n",
    "                           nbin in tomo_bins_wide])\n",
    "tomo_bin_hashtable = pd.Series(tmp_bins, tmp_cells)\n",
    "\n",
    "nrows = wide_data['coadd_object_id'].shape[0]"
   ]
  },
  {
   "cell_type": "code",
   "execution_count": 28,
   "id": "14418c4f-3202-4a9d-8da5-24a2357b0108",
   "metadata": {},
   "outputs": [],
   "source": [
    "f = h5py.File('sompz_test.hdf5','w', track_order=True)"
   ]
  },
  {
   "cell_type": "code",
   "execution_count": 29,
   "id": "2d748696-a8dd-45d8-b3d1-a551bc44d1d7",
   "metadata": {},
   "outputs": [
    {
     "name": "stdout",
     "output_type": "stream",
     "text": [
      "add binning unsheared\n",
      "that worked!\n",
      "add binning sheared_1m\n",
      "that worked!\n",
      "add binning sheared_1p\n",
      "that worked!\n",
      "add binning sheared_2m\n",
      "that worked!\n",
      "add binning sheared_2p\n",
      "that worked!\n"
     ]
    }
   ],
   "source": [
    "fluxtypes = ['unsheared', 'sheared_1m', 'sheared_1p', 'sheared_2m', 'sheared_2p']\n",
    "\n",
    "# add binning info to catalog\n",
    "for fluxtype in fluxtypes:\n",
    "    if fluxtype == 'unsheared':\n",
    "        f.create_dataset('catalog/sompz/unsheared/coadd_object_id', data = wide_data['coadd_object_id'])\n",
    "    \n",
    "    print('add binning {}'.format(fluxtype))\n",
    "    try:\n",
    "        #print(f['catalog/sompz/unsheared'].keys())\n",
    "        f.create_dataset(f'catalog/sompz/{fluxtype}/bhat', \n",
    "                         maxshape=(nrows,),\n",
    "                         shape=(nrows,), dtype='i8')\n",
    "        print(\"that worked!\")\n",
    "    except Exception as e:\n",
    "        print(e)\n",
    "    tmp = wide_data['cell_wide_{}'.format(fluxtype)].map(tomo_bin_hashtable)\n",
    "    tmp[np.isnan(tmp)] = -1\n",
    "    f['catalog/sompz/{}/bhat'.format(fluxtype)][...] = tmp\n",
    "    f.create_dataset(f'catalog/sompz/{fluxtype}/cell_wide', data = wide_data[f'cell_wide_{fluxtype}'])\n",
    "    \n"
   ]
  },
  {
   "cell_type": "code",
   "execution_count": 30,
   "id": "ec3cd0bc-fd2f-4abf-97f7-1777ab5a5759",
   "metadata": {},
   "outputs": [
    {
     "name": "stdout",
     "output_type": "stream",
     "text": [
      "(4096, 601)\n"
     ]
    }
   ],
   "source": [
    "f.create_dataset('catalog/sompz/pzdata/pz_c', data = pz_c)\n",
    "print(f['catalog/sompz/pzdata/pz_c'][...].shape)"
   ]
  },
  {
   "cell_type": "code",
   "execution_count": 31,
   "id": "9609d4e2-b7d9-40a8-81f4-809cfbe95545",
   "metadata": {},
   "outputs": [
    {
     "name": "stdout",
     "output_type": "stream",
     "text": [
      "(1024, 601)\n"
     ]
    }
   ],
   "source": [
    "f.create_dataset('catalog/sompz/pzdata/pz_chat', data = pz_chat)\n",
    "print(f['catalog/sompz/pzdata/pz_chat'][...].shape)"
   ]
  },
  {
   "cell_type": "code",
   "execution_count": 33,
   "id": "4150649b-fb9f-446e-b84f-ae1354f9adc6",
   "metadata": {},
   "outputs": [
    {
     "data": {
      "text/plain": [
       "<HDF5 dataset \"zlow\": shape (300,), type \">f8\">"
      ]
     },
     "execution_count": 33,
     "metadata": {},
     "output_type": "execute_result"
    }
   ],
   "source": [
    "nz = fitsio.read(data_dir+'Y3_y3_redshift_distributions_SOMF_modal_even_Y3_bincond_pileup3.fits')\n",
    "\n",
    "f.create_dataset('catalog/sompz/pzdata/bin0',  data = nz['BIN1'])\n",
    "f.create_dataset('catalog/sompz/pzdata/bin1',  data = nz['BIN2'])\n",
    "f.create_dataset('catalog/sompz/pzdata/bin2',  data = nz['BIN3'])\n",
    "f.create_dataset('catalog/sompz/pzdata/bin3',  data = nz['BIN4'])\n",
    "f.create_dataset('catalog/sompz/pzdata/zhigh', data = nz['Z_HIGH'])\n",
    "f.create_dataset('catalog/sompz/pzdata/zlow',  data = nz['Z_LOW'])"
   ]
  },
  {
   "cell_type": "code",
   "execution_count": 34,
   "id": "53b4ad3d-73c3-48a6-ae79-7a9105f14695",
   "metadata": {},
   "outputs": [],
   "source": [
    "f.close()"
   ]
  },
  {
   "cell_type": "code",
   "execution_count": null,
   "id": "25707bde-c0d0-48f8-a3ed-175cee14236f",
   "metadata": {},
   "outputs": [],
   "source": []
  },
  {
   "cell_type": "code",
   "execution_count": null,
   "id": "bab56234-efb5-404d-8e56-a6ead4862f9b",
   "metadata": {},
   "outputs": [],
   "source": []
  }
 ],
 "metadata": {
  "kernelspec": {
   "display_name": "MySOM",
   "language": "python",
   "name": "mysom"
  },
  "language_info": {
   "codemirror_mode": {
    "name": "ipython",
    "version": 3
   },
   "file_extension": ".py",
   "mimetype": "text/x-python",
   "name": "python",
   "nbconvert_exporter": "python",
   "pygments_lexer": "ipython3",
   "version": "3.9.6"
  }
 },
 "nbformat": 4,
 "nbformat_minor": 5
}
