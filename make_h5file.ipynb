{
 "cells": [
  {
   "cell_type": "code",
   "execution_count": 1,
   "id": "b5b9eb17-ee43-49b2-a544-f038e7b9c904",
   "metadata": {},
   "outputs": [],
   "source": [
    "#make h5 mastercat"
   ]
  },
  {
   "cell_type": "code",
   "execution_count": 2,
   "id": "58d0dffb-7e4d-41bf-9d77-c667e6750875",
   "metadata": {},
   "outputs": [],
   "source": [
    "import h5py\n",
    "import numpy as np"
   ]
  },
  {
   "cell_type": "code",
   "execution_count": 3,
   "id": "2a6b420c-1ac6-4f74-b575-d07b9d4e21eb",
   "metadata": {},
   "outputs": [],
   "source": [
    "#'catalog': ['metacal', 'gold', 'bpz', 'dnf', 'sompz', 'redmagic', 'redmapper', 'maglim']\n",
    "#'index' :\n",
    "#'masks' : ['gold', 'redmagic']\n",
    "#'maps'\n",
    "#'regions'\n",
    "#'randoms'\n",
    "\n",
    "sompz_fid = '/global/cscratch1/sd/acampos/sompz/test/full_run_on_data/SOM/cats_Y3/sompz_SOMF_all_601.hdf5'\n",
    "# sompz_all = '/global/cscratch1/sd/acampos/sompz/test/full_run_on_data/SOM/sompz_SOMF_all_601_pzdata.hdf5'\n",
    "mcat = '/project/projectdirs/des/www/y3_cats/Y3_mastercat_02_05_21.h5'\n",
    "\n",
    "fidh5 = h5py.File('Y3_mastercat_02_05_21_SOMF_all_601.h5', 'w')  #change 'fid.h5' with the name you want : )\n",
    "fidh5['catalog/metacal'] = h5py.ExternalLink(mcat, 'catalog/metacal/')\n",
    "fidh5['catalog/gold'] = h5py.ExternalLink(mcat, 'catalog/gold/')\n",
    "fidh5['catalog/bpz'] = h5py.ExternalLink(mcat, 'catalog/bpz/')\n",
    "fidh5['catalog/dnf'] = h5py.ExternalLink(mcat, 'catalog/dnf/')\n",
    "fidh5['catalog/sompz'] = h5py.ExternalLink(sompz_fid, 'catalog/sompz/') #replace sompz_fid to your som h5 file\n",
    "\n",
    "# fidh5['catalog/sompz/unsheared']  = h5py.ExternalLink(sompz_all, 'catalog/sompz/unsheared/')\n",
    "# fidh5['catalog/sompz/sheared_1m'] = h5py.ExternalLink(sompz_all, 'catalog/sompz/sheared_1m/')\n",
    "# fidh5['catalog/sompz/sheared_1p'] = h5py.ExternalLink(sompz_all, 'catalog/sompz/sheared_1p/')\n",
    "# fidh5['catalog/sompz/sheared_2m'] = h5py.ExternalLink(sompz_all, 'catalog/sompz/sheared_2m/')\n",
    "# fidh5['catalog/sompz/sheared_2p'] = h5py.ExternalLink(sompz_all, 'catalog/sompz/sheared_2p/')\n",
    "# fidh5['catalog/sompz/pzdata']     = h5py.ExternalLink(sompz_fid, 'catalog/sompz/pzdata/')\n",
    "\n",
    "\n",
    "fidh5['catalog/redmagic'] = h5py.ExternalLink(mcat, 'catalog/redmagic/')\n",
    "fidh5['catalog/redmapper'] = h5py.ExternalLink(mcat, 'catalog/redmapper/')\n",
    "fidh5['catalog/maglim'] = h5py.ExternalLink(mcat, 'catalog/maglim/')\n",
    "\n",
    "fidh5['index'] = h5py.ExternalLink(mcat, 'index/')\n",
    "fidh5['masks'] = h5py.ExternalLink(mcat, 'masks/')\n",
    "fidh5['maps'] = h5py.ExternalLink(mcat, 'maps/')\n",
    "fidh5['regions'] = h5py.ExternalLink(mcat, 'regions/')\n",
    "fidh5['randoms'] = h5py.ExternalLink(mcat, 'randoms/')\n",
    "\n",
    "\n",
    "\n"
   ]
  },
  {
   "cell_type": "code",
   "execution_count": 4,
   "id": "b83f4547-3184-4499-9f60-0c2fc91f9e5f",
   "metadata": {},
   "outputs": [],
   "source": [
    "fidh5.close()"
   ]
  },
  {
   "cell_type": "code",
   "execution_count": null,
   "id": "e6c8fe1c-d10d-43a3-a9f6-659efa8266c0",
   "metadata": {},
   "outputs": [],
   "source": []
  }
 ],
 "metadata": {
  "kernelspec": {
   "display_name": "py27-sompz",
   "language": "python",
   "name": "py27-sompz"
  },
  "language_info": {
   "codemirror_mode": {
    "name": "ipython",
    "version": 2
   },
   "file_extension": ".py",
   "mimetype": "text/x-python",
   "name": "python",
   "nbconvert_exporter": "python",
   "pygments_lexer": "ipython2",
   "version": "2.7.15"
  }
 },
 "nbformat": 4,
 "nbformat_minor": 5
}
